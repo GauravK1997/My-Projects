{
 "cells": [
  {
   "cell_type": "code",
   "execution_count": 7,
   "metadata": {
    "colab": {
     "base_uri": "https://localhost:8080/"
    },
    "executionInfo": {
     "elapsed": 23205,
     "status": "ok",
     "timestamp": 1613479838459,
     "user": {
      "displayName": "Gaurav Kamble",
      "photoUrl": "https://lh3.googleusercontent.com/a-/AOh14GixcBN0H7c8PtdTfQCDn5HlyzyP42jgBrjO31Lc=s64",
      "userId": "01233196997439613538"
     },
     "user_tz": -330
    },
    "id": "GX3FIypiitPn",
    "outputId": "b00a49f6-10cd-4817-b6a6-3bb5f1f7ea83"
   },
   "outputs": [
    {
     "name": "stdout",
     "output_type": "stream",
     "text": [
      "Mounted at /content/gdrive\n"
     ]
    }
   ],
   "source": [
    "from google.colab import drive\n",
    "drive.mount('/content/gdrive')"
   ]
  },
  {
   "cell_type": "code",
   "execution_count": 8,
   "metadata": {
    "executionInfo": {
     "elapsed": 1375,
     "status": "ok",
     "timestamp": 1613479841357,
     "user": {
      "displayName": "Gaurav Kamble",
      "photoUrl": "https://lh3.googleusercontent.com/a-/AOh14GixcBN0H7c8PtdTfQCDn5HlyzyP42jgBrjO31Lc=s64",
      "userId": "01233196997439613538"
     },
     "user_tz": -330
    },
    "id": "cfLI2VFFjmTl"
   },
   "outputs": [],
   "source": [
    "import os\n",
    "os.environ['KAGGLE_CONFIG_DIR']='/content/gdrive/MyDrive/kaggle_datasets'"
   ]
  },
  {
   "cell_type": "code",
   "execution_count": 9,
   "metadata": {
    "colab": {
     "base_uri": "https://localhost:8080/"
    },
    "executionInfo": {
     "elapsed": 1108,
     "status": "ok",
     "timestamp": 1613479841746,
     "user": {
      "displayName": "Gaurav Kamble",
      "photoUrl": "https://lh3.googleusercontent.com/a-/AOh14GixcBN0H7c8PtdTfQCDn5HlyzyP42jgBrjO31Lc=s64",
      "userId": "01233196997439613538"
     },
     "user_tz": -330
    },
    "id": "9SDuQyMvjxCY",
    "outputId": "8eef0db2-28d7-4332-83b8-6ecba8ce1735"
   },
   "outputs": [
    {
     "name": "stdout",
     "output_type": "stream",
     "text": [
      "/content/gdrive/MyDrive/kaggle_datasets\n"
     ]
    }
   ],
   "source": [
    "%cd '/content/gdrive/MyDrive/kaggle_datasets'"
   ]
  },
  {
   "cell_type": "code",
   "execution_count": 10,
   "metadata": {
    "colab": {
     "base_uri": "https://localhost:8080/"
    },
    "executionInfo": {
     "elapsed": 1267,
     "status": "ok",
     "timestamp": 1613479842507,
     "user": {
      "displayName": "Gaurav Kamble",
      "photoUrl": "https://lh3.googleusercontent.com/a-/AOh14GixcBN0H7c8PtdTfQCDn5HlyzyP42jgBrjO31Lc=s64",
      "userId": "01233196997439613538"
     },
     "user_tz": -330
    },
    "id": "vv6XLWBKjzPo",
    "outputId": "4068be9b-5312-49d1-ebae-ac773f05fae8"
   },
   "outputs": [
    {
     "name": "stdout",
     "output_type": "stream",
     "text": [
      "checkpoint\t\t\t\t\t   kaggle.json\n",
      "colab_fruits.h5\t\t\t\t\t   messy-vs-clean-room\n",
      "colab_fruits_weights.index\t\t\t   model-for-detecting-malaria\n",
      "colab_inception_resnet_malaria_detection_model.h5  natural-images\n",
      "indian-food-classification\t\t\t   real-and-fake-face-detection\n",
      "intel-image-classification\n"
     ]
    }
   ],
   "source": [
    "!ls"
   ]
  },
  {
   "cell_type": "code",
   "execution_count": 11,
   "metadata": {
    "colab": {
     "base_uri": "https://localhost:8080/"
    },
    "executionInfo": {
     "elapsed": 826,
     "status": "ok",
     "timestamp": 1613479845836,
     "user": {
      "displayName": "Gaurav Kamble",
      "photoUrl": "https://lh3.googleusercontent.com/a-/AOh14GixcBN0H7c8PtdTfQCDn5HlyzyP42jgBrjO31Lc=s64",
      "userId": "01233196997439613538"
     },
     "user_tz": -330
    },
    "id": "2lZbD42jNMvM",
    "outputId": "a0d34e34-fa48-4b1d-fa3c-302a8aeb5ba5"
   },
   "outputs": [
    {
     "name": "stdout",
     "output_type": "stream",
     "text": [
      "/content/gdrive/MyDrive/kaggle_datasets/intel-image-classification\n"
     ]
    }
   ],
   "source": [
    "%cd intel-image-classification"
   ]
  },
  {
   "cell_type": "code",
   "execution_count": 7,
   "metadata": {
    "executionInfo": {
     "elapsed": 3203,
     "status": "ok",
     "timestamp": 1613469142934,
     "user": {
      "displayName": "Gaurav Kamble",
      "photoUrl": "https://lh3.googleusercontent.com/a-/AOh14GixcBN0H7c8PtdTfQCDn5HlyzyP42jgBrjO31Lc=s64",
      "userId": "01233196997439613538"
     },
     "user_tz": -330
    },
    "id": "VhkDmIYekrPA"
   },
   "outputs": [],
   "source": [
    "import tensorflow as tf\n",
    "from tensorflow import keras\n",
    "from tensorflow.keras import models\n",
    "from tensorflow.keras import layers\n",
    "from tensorflow.keras.preprocessing.image import ImageDataGenerator"
   ]
  },
  {
   "cell_type": "code",
   "execution_count": 8,
   "metadata": {
    "executionInfo": {
     "elapsed": 2627,
     "status": "ok",
     "timestamp": 1613469142940,
     "user": {
      "displayName": "Gaurav Kamble",
      "photoUrl": "https://lh3.googleusercontent.com/a-/AOh14GixcBN0H7c8PtdTfQCDn5HlyzyP42jgBrjO31Lc=s64",
      "userId": "01233196997439613538"
     },
     "user_tz": -330
    },
    "id": "dZJ5oKRlk1Tq"
   },
   "outputs": [],
   "source": [
    "train_dir = '/content/gdrive/MyDrive/kaggle_datasets/intel-image-classification/seg_train/seg_train'\n",
    "val_dir = '/content/gdrive/MyDrive/kaggle_datasets/intel-image-classification/seg_test/seg_test'"
   ]
  },
  {
   "cell_type": "code",
   "execution_count": 9,
   "metadata": {
    "executionInfo": {
     "elapsed": 2040,
     "status": "ok",
     "timestamp": 1613469142942,
     "user": {
      "displayName": "Gaurav Kamble",
      "photoUrl": "https://lh3.googleusercontent.com/a-/AOh14GixcBN0H7c8PtdTfQCDn5HlyzyP42jgBrjO31Lc=s64",
      "userId": "01233196997439613538"
     },
     "user_tz": -330
    },
    "id": "bYM_CPN7k8BE"
   },
   "outputs": [],
   "source": [
    "train_datagen = ImageDataGenerator(rescale=1./255,\n",
    "                                   rotation_range=40,\n",
    "                                   width_shift_range=0.2,\n",
    "                                   height_shift_range=0.2,\n",
    "                                   shear_range=0.2,\n",
    "                                   zoom_range=0.2,\n",
    "                                   horizontal_flip=True)\n",
    "\n",
    "val_datagen = ImageDataGenerator(rescale=1./255)"
   ]
  },
  {
   "cell_type": "code",
   "execution_count": 10,
   "metadata": {
    "colab": {
     "base_uri": "https://localhost:8080/"
    },
    "executionInfo": {
     "elapsed": 41673,
     "status": "ok",
     "timestamp": 1613469183066,
     "user": {
      "displayName": "Gaurav Kamble",
      "photoUrl": "https://lh3.googleusercontent.com/a-/AOh14GixcBN0H7c8PtdTfQCDn5HlyzyP42jgBrjO31Lc=s64",
      "userId": "01233196997439613538"
     },
     "user_tz": -330
    },
    "id": "4xzDqzpamzn1",
    "outputId": "5ee2f3f1-4aaf-49fa-c147-b7d12d0336c5"
   },
   "outputs": [
    {
     "name": "stdout",
     "output_type": "stream",
     "text": [
      "Found 14034 images belonging to 6 classes.\n",
      "Found 3000 images belonging to 6 classes.\n"
     ]
    }
   ],
   "source": [
    "train_generator = train_datagen.flow_from_directory(train_dir,\n",
    "                                                    target_size=(150,150),\n",
    "                                                    batch_size=16,\n",
    "                                                    class_mode='categorical')\n",
    "\n",
    "validation_generator = val_datagen.flow_from_directory(val_dir,\n",
    "                                                        target_size=(150,150),\n",
    "                                                        batch_size=16,\n",
    "                                                        class_mode='categorical')"
   ]
  },
  {
   "cell_type": "code",
   "execution_count": 5,
   "metadata": {
    "executionInfo": {
     "elapsed": 985,
     "status": "ok",
     "timestamp": 1613479766608,
     "user": {
      "displayName": "Gaurav Kamble",
      "photoUrl": "https://lh3.googleusercontent.com/a-/AOh14GixcBN0H7c8PtdTfQCDn5HlyzyP42jgBrjO31Lc=s64",
      "userId": "01233196997439613538"
     },
     "user_tz": -330
    },
    "id": "wDh6Ccd5mziW"
   },
   "outputs": [],
   "source": [
    "from tensorflow.keras import models\n",
    "from tensorflow.keras import layers"
   ]
  },
  {
   "cell_type": "code",
   "execution_count": 12,
   "metadata": {
    "executionInfo": {
     "elapsed": 46557,
     "status": "ok",
     "timestamp": 1613469189087,
     "user": {
      "displayName": "Gaurav Kamble",
      "photoUrl": "https://lh3.googleusercontent.com/a-/AOh14GixcBN0H7c8PtdTfQCDn5HlyzyP42jgBrjO31Lc=s64",
      "userId": "01233196997439613538"
     },
     "user_tz": -330
    },
    "id": "23hf0fZud--l"
   },
   "outputs": [],
   "source": [
    "model = models.Sequential([\n",
    "                           layers.Conv2D(32, (3,3), activation='relu', padding='same', input_shape=(150,150,3)),\n",
    "                           layers.BatchNormalization(),\n",
    "                           layers.MaxPooling2D((2,2)),\n",
    "                           layers.Dropout((0.4)),\n",
    "\n",
    "\n",
    "                           layers.Conv2D(32, (3,3), activation='relu', padding='same'),\n",
    "                           layers.Conv2D(64, (3,3), activation='relu', padding='same'),\n",
    "                           layers.BatchNormalization(),\n",
    "                           layers.MaxPooling2D((2,2)),\n",
    "                           layers.Dropout((0.4)),\n",
    "\n",
    "                           layers.Conv2D(64, (3,3), activation='relu', padding='same'),\n",
    "                           layers.Conv2D(128, (3,3), activation='relu', padding='same'),\n",
    "                           layers.BatchNormalization(),\n",
    "                           layers.MaxPooling2D((2,2)),\n",
    "                           layers.Dropout((0.4)),\n",
    "\n",
    "                           layers.Flatten(),\n",
    "\n",
    "                           layers.Dense(256, activation='relu'),\n",
    "                           layers.BatchNormalization(),\n",
    "                           layers.Dense(512, activation='relu'),\n",
    "                           layers.Dense(6, activation='softmax')\n",
    "\n",
    "])"
   ]
  },
  {
   "cell_type": "code",
   "execution_count": 13,
   "metadata": {
    "colab": {
     "base_uri": "https://localhost:8080/"
    },
    "executionInfo": {
     "elapsed": 46089,
     "status": "ok",
     "timestamp": 1613469189090,
     "user": {
      "displayName": "Gaurav Kamble",
      "photoUrl": "https://lh3.googleusercontent.com/a-/AOh14GixcBN0H7c8PtdTfQCDn5HlyzyP42jgBrjO31Lc=s64",
      "userId": "01233196997439613538"
     },
     "user_tz": -330
    },
    "id": "RLt4yC2Cmzao",
    "outputId": "e48cfcda-9d67-4a4e-cdeb-024f21c7f75b"
   },
   "outputs": [
    {
     "name": "stdout",
     "output_type": "stream",
     "text": [
      "Model: \"sequential\"\n",
      "_________________________________________________________________\n",
      "Layer (type)                 Output Shape              Param #   \n",
      "=================================================================\n",
      "conv2d (Conv2D)              (None, 150, 150, 32)      896       \n",
      "_________________________________________________________________\n",
      "batch_normalization (BatchNo (None, 150, 150, 32)      128       \n",
      "_________________________________________________________________\n",
      "max_pooling2d (MaxPooling2D) (None, 75, 75, 32)        0         \n",
      "_________________________________________________________________\n",
      "dropout (Dropout)            (None, 75, 75, 32)        0         \n",
      "_________________________________________________________________\n",
      "conv2d_1 (Conv2D)            (None, 75, 75, 32)        9248      \n",
      "_________________________________________________________________\n",
      "conv2d_2 (Conv2D)            (None, 75, 75, 64)        18496     \n",
      "_________________________________________________________________\n",
      "batch_normalization_1 (Batch (None, 75, 75, 64)        256       \n",
      "_________________________________________________________________\n",
      "max_pooling2d_1 (MaxPooling2 (None, 37, 37, 64)        0         \n",
      "_________________________________________________________________\n",
      "dropout_1 (Dropout)          (None, 37, 37, 64)        0         \n",
      "_________________________________________________________________\n",
      "conv2d_3 (Conv2D)            (None, 37, 37, 64)        36928     \n",
      "_________________________________________________________________\n",
      "conv2d_4 (Conv2D)            (None, 37, 37, 128)       73856     \n",
      "_________________________________________________________________\n",
      "batch_normalization_2 (Batch (None, 37, 37, 128)       512       \n",
      "_________________________________________________________________\n",
      "max_pooling2d_2 (MaxPooling2 (None, 18, 18, 128)       0         \n",
      "_________________________________________________________________\n",
      "dropout_2 (Dropout)          (None, 18, 18, 128)       0         \n",
      "_________________________________________________________________\n",
      "flatten (Flatten)            (None, 41472)             0         \n",
      "_________________________________________________________________\n",
      "dense (Dense)                (None, 256)               10617088  \n",
      "_________________________________________________________________\n",
      "batch_normalization_3 (Batch (None, 256)               1024      \n",
      "_________________________________________________________________\n",
      "dense_1 (Dense)              (None, 512)               131584    \n",
      "_________________________________________________________________\n",
      "dense_2 (Dense)              (None, 6)                 3078      \n",
      "=================================================================\n",
      "Total params: 10,893,094\n",
      "Trainable params: 10,892,134\n",
      "Non-trainable params: 960\n",
      "_________________________________________________________________\n"
     ]
    }
   ],
   "source": [
    "model.summary()"
   ]
  },
  {
   "cell_type": "code",
   "execution_count": 14,
   "metadata": {
    "executionInfo": {
     "elapsed": 45260,
     "status": "ok",
     "timestamp": 1613469189093,
     "user": {
      "displayName": "Gaurav Kamble",
      "photoUrl": "https://lh3.googleusercontent.com/a-/AOh14GixcBN0H7c8PtdTfQCDn5HlyzyP42jgBrjO31Lc=s64",
      "userId": "01233196997439613538"
     },
     "user_tz": -330
    },
    "id": "fBYLXhmVmzZa"
   },
   "outputs": [],
   "source": [
    "model.compile(tf.keras.optimizers.Adam(learning_rate=2e-4),\n",
    "              tf.keras.losses.categorical_crossentropy,\n",
    "              metrics=['accuracy'])"
   ]
  },
  {
   "cell_type": "code",
   "execution_count": 15,
   "metadata": {
    "colab": {
     "base_uri": "https://localhost:8080/"
    },
    "executionInfo": {
     "elapsed": 2932948,
     "status": "ok",
     "timestamp": 1613475858725,
     "user": {
      "displayName": "Gaurav Kamble",
      "photoUrl": "https://lh3.googleusercontent.com/a-/AOh14GixcBN0H7c8PtdTfQCDn5HlyzyP42jgBrjO31Lc=s64",
      "userId": "01233196997439613538"
     },
     "user_tz": -330
    },
    "id": "EOe3i6VHmzOE",
    "outputId": "5374f4f7-452a-4379-daa4-7fd86b371e94"
   },
   "outputs": [
    {
     "name": "stderr",
     "output_type": "stream",
     "text": [
      "/usr/local/lib/python3.6/dist-packages/tensorflow/python/keras/engine/training.py:1844: UserWarning: `Model.fit_generator` is deprecated and will be removed in a future version. Please use `Model.fit`, which supports generators.\n",
      "  warnings.warn('`Model.fit_generator` is deprecated and '\n"
     ]
    },
    {
     "name": "stdout",
     "output_type": "stream",
     "text": [
      "Epoch 1/10\n",
      "878/878 [==============================] - 5730s 7s/step - loss: 1.2553 - accuracy: 0.5097 - val_loss: 4.7962 - val_accuracy: 0.4323\n",
      "Epoch 2/10\n",
      "878/878 [==============================] - 104s 118ms/step - loss: 0.9556 - accuracy: 0.6363 - val_loss: 5.8011 - val_accuracy: 0.3500\n",
      "Epoch 3/10\n",
      "878/878 [==============================] - 104s 118ms/step - loss: 0.8821 - accuracy: 0.6608 - val_loss: 4.0798 - val_accuracy: 0.4360\n",
      "Epoch 4/10\n",
      "878/878 [==============================] - 103s 117ms/step - loss: 0.8470 - accuracy: 0.6803 - val_loss: 3.1789 - val_accuracy: 0.4260\n",
      "Epoch 5/10\n",
      "878/878 [==============================] - 103s 117ms/step - loss: 0.7917 - accuracy: 0.7084 - val_loss: 1.8521 - val_accuracy: 0.6113\n",
      "Epoch 6/10\n",
      "878/878 [==============================] - 103s 118ms/step - loss: 0.7583 - accuracy: 0.7225 - val_loss: 0.8946 - val_accuracy: 0.7003\n",
      "Epoch 7/10\n",
      "878/878 [==============================] - 103s 117ms/step - loss: 0.7171 - accuracy: 0.7363 - val_loss: 0.9366 - val_accuracy: 0.6783\n",
      "Epoch 8/10\n",
      "878/878 [==============================] - 103s 118ms/step - loss: 0.6968 - accuracy: 0.7380 - val_loss: 1.0125 - val_accuracy: 0.6717\n",
      "Epoch 9/10\n",
      "878/878 [==============================] - 103s 117ms/step - loss: 0.6974 - accuracy: 0.7452 - val_loss: 1.0726 - val_accuracy: 0.6720\n",
      "Epoch 10/10\n",
      "878/878 [==============================] - 103s 117ms/step - loss: 0.6675 - accuracy: 0.7597 - val_loss: 1.2929 - val_accuracy: 0.6323\n"
     ]
    }
   ],
   "source": [
    "history = model.fit_generator(train_generator,\n",
    "                             steps_per_epoch=878,\n",
    "                             epochs=10,\n",
    "                             validation_data=validation_generator,\n",
    "                            validation_steps=188)\n",
    "\n",
    "model.save('colab_intel_image_classification_custom.h5')"
   ]
  }
 ],
 "metadata": {
  "accelerator": "GPU",
  "colab": {
   "authorship_tag": "ABX9TyP1eIOpe5GEBCUfSS8DUizA",
   "collapsed_sections": [],
   "mount_file_id": "1TipDKhRD3kw3lZvUb0sDFZRh4yTzahIG",
   "name": "intel_image_classification_custom.ipynb",
   "provenance": []
  },
  "kernelspec": {
   "display_name": "Python 3",
   "language": "python",
   "name": "python3"
  },
  "language_info": {
   "codemirror_mode": {
    "name": "ipython",
    "version": 3
   },
   "file_extension": ".py",
   "mimetype": "text/x-python",
   "name": "python",
   "nbconvert_exporter": "python",
   "pygments_lexer": "ipython3",
   "version": "3.7.9"
  }
 },
 "nbformat": 4,
 "nbformat_minor": 1
}
