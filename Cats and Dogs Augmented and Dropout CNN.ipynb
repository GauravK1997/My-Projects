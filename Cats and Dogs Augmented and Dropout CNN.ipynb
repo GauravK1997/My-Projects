{
 "cells": [
  {
   "cell_type": "code",
   "execution_count": 1,
   "metadata": {},
   "outputs": [],
   "source": [
    "import tensorflow as tf\n",
    "from tensorflow import keras\n",
    "from tensorflow.keras import models\n",
    "from tensorflow.keras import layers"
   ]
  },
  {
   "cell_type": "code",
   "execution_count": 2,
   "metadata": {},
   "outputs": [],
   "source": [
    "train_dir = r'C:\\Users\\Gaurav\\Deep Learning Data\\train'\n",
    "validation_dir = r'C:\\Users\\Gaurav\\Deep Learning Data\\validation'\n",
    "test_dir = r'C:\\Users\\Gaurav\\Deep Learning Data\\test'"
   ]
  },
  {
   "cell_type": "code",
   "execution_count": 3,
   "metadata": {},
   "outputs": [],
   "source": [
    "from tensorflow.keras.preprocessing import image"
   ]
  },
  {
   "cell_type": "code",
   "execution_count": 3,
   "metadata": {},
   "outputs": [],
   "source": [
    "from tensorflow.keras.preprocessing.image import ImageDataGenerator"
   ]
  },
  {
   "cell_type": "code",
   "execution_count": 4,
   "metadata": {},
   "outputs": [
    {
     "name": "stdout",
     "output_type": "stream",
     "text": [
      "Found 2000 images belonging to 2 classes.\n",
      "Found 1000 images belonging to 2 classes.\n"
     ]
    }
   ],
   "source": [
    "train_datagen = ImageDataGenerator(rescale=1./255,\n",
    "                                  rotation_range=40,\n",
    "                                  width_shift_range=0.2,\n",
    "                                  height_shift_range=0.2,\n",
    "                                  shear_range=0.2,\n",
    "                                  zoom_range=0.2,\n",
    "                                  horizontal_flip=True)\n",
    "\n",
    "test_datagen = ImageDataGenerator(rescale=1./255)\n",
    "\n",
    "train_generator = train_datagen.flow_from_directory(train_dir,\n",
    "                                                    target_size=(150,150),\n",
    "                                                    batch_size=20,\n",
    "                                                    class_mode='binary')\n",
    "\n",
    "validation_generator = test_datagen.flow_from_directory(validation_dir,\n",
    "                                                        target_size=(150,150),\n",
    "                                                        batch_size=20,\n",
    "                                                        class_mode='binary')"
   ]
  },
  {
   "cell_type": "code",
   "execution_count": 5,
   "metadata": {},
   "outputs": [],
   "source": [
    "model = models.Sequential([\n",
    "    layers.Conv2D(32, (3,3), activation='relu', input_shape=(150,150,3)),\n",
    "    layers.MaxPooling2D((2,2)),\n",
    "    \n",
    "    layers.Conv2D(64, (3,3), activation='relu'),\n",
    "    layers.MaxPooling2D((2,2)),\n",
    "    \n",
    "    layers.Conv2D(128, (3,3), activation='relu'),\n",
    "    layers.MaxPooling2D((2,2)),\n",
    "    \n",
    "    layers.Conv2D(128, (3,3), activation='relu'),\n",
    "    layers.MaxPooling2D((2,2)),\n",
    "    \n",
    "    layers.Flatten(),\n",
    "    \n",
    "    layers.Dropout((0.5)),\n",
    "    layers.Dense(512, activation='relu'),\n",
    "    layers.Dense(1, activation='sigmoid')\n",
    "])"
   ]
  },
  {
   "cell_type": "code",
   "execution_count": 6,
   "metadata": {},
   "outputs": [
    {
     "name": "stdout",
     "output_type": "stream",
     "text": [
      "Model: \"sequential\"\n",
      "_________________________________________________________________\n",
      "Layer (type)                 Output Shape              Param #   \n",
      "=================================================================\n",
      "conv2d (Conv2D)              (None, 148, 148, 32)      896       \n",
      "_________________________________________________________________\n",
      "max_pooling2d (MaxPooling2D) (None, 74, 74, 32)        0         \n",
      "_________________________________________________________________\n",
      "conv2d_1 (Conv2D)            (None, 72, 72, 64)        18496     \n",
      "_________________________________________________________________\n",
      "max_pooling2d_1 (MaxPooling2 (None, 36, 36, 64)        0         \n",
      "_________________________________________________________________\n",
      "conv2d_2 (Conv2D)            (None, 34, 34, 128)       73856     \n",
      "_________________________________________________________________\n",
      "max_pooling2d_2 (MaxPooling2 (None, 17, 17, 128)       0         \n",
      "_________________________________________________________________\n",
      "conv2d_3 (Conv2D)            (None, 15, 15, 128)       147584    \n",
      "_________________________________________________________________\n",
      "max_pooling2d_3 (MaxPooling2 (None, 7, 7, 128)         0         \n",
      "_________________________________________________________________\n",
      "flatten (Flatten)            (None, 6272)              0         \n",
      "_________________________________________________________________\n",
      "dropout (Dropout)            (None, 6272)              0         \n",
      "_________________________________________________________________\n",
      "dense (Dense)                (None, 512)               3211776   \n",
      "_________________________________________________________________\n",
      "dense_1 (Dense)              (None, 1)                 513       \n",
      "=================================================================\n",
      "Total params: 3,453,121\n",
      "Trainable params: 3,453,121\n",
      "Non-trainable params: 0\n",
      "_________________________________________________________________\n"
     ]
    }
   ],
   "source": [
    "model.summary()"
   ]
  },
  {
   "cell_type": "code",
   "execution_count": 7,
   "metadata": {},
   "outputs": [],
   "source": [
    "from tensorflow.keras import optimizers"
   ]
  },
  {
   "cell_type": "code",
   "execution_count": 8,
   "metadata": {},
   "outputs": [],
   "source": [
    "model.compile(optimizers.RMSprop(lr=1e-4),\n",
    "             loss='binary_crossentropy',\n",
    "             metrics=['acc'])"
   ]
  },
  {
   "cell_type": "code",
   "execution_count": 9,
   "metadata": {},
   "outputs": [
    {
     "name": "stdout",
     "output_type": "stream",
     "text": [
      "WARNING:tensorflow:From <ipython-input-9-2cbc3a27cdcd>:5: Model.fit_generator (from tensorflow.python.keras.engine.training) is deprecated and will be removed in a future version.\n",
      "Instructions for updating:\n",
      "Please use Model.fit, which supports generators.\n",
      "WARNING:tensorflow:sample_weight modes were coerced from\n",
      "  ...\n",
      "    to  \n",
      "  ['...']\n",
      "WARNING:tensorflow:sample_weight modes were coerced from\n",
      "  ...\n",
      "    to  \n",
      "  ['...']\n",
      "Train for 100 steps, validate for 50 steps\n",
      "Epoch 1/100\n",
      "100/100 [==============================] - 163s 2s/step - loss: 0.6939 - acc: 0.5085 - val_loss: 0.6908 - val_acc: 0.5090\n",
      "Epoch 2/100\n",
      "100/100 [==============================] - 82s 819ms/step - loss: 0.6829 - acc: 0.5620 - val_loss: 0.7619 - val_acc: 0.5000\n",
      "Epoch 3/100\n",
      "100/100 [==============================] - 83s 830ms/step - loss: 0.6755 - acc: 0.5760 - val_loss: 0.6493 - val_acc: 0.6310\n",
      "Epoch 4/100\n",
      "100/100 [==============================] - 87s 875ms/step - loss: 0.6565 - acc: 0.6160 - val_loss: 0.6324 - val_acc: 0.6440\n",
      "Epoch 5/100\n",
      "100/100 [==============================] - 87s 873ms/step - loss: 0.6457 - acc: 0.6230 - val_loss: 0.6250 - val_acc: 0.6450\n",
      "Epoch 6/100\n",
      "100/100 [==============================] - 84s 836ms/step - loss: 0.6248 - acc: 0.6565 - val_loss: 0.5977 - val_acc: 0.6700\n",
      "Epoch 7/100\n",
      "100/100 [==============================] - 84s 845ms/step - loss: 0.6212 - acc: 0.6600 - val_loss: 0.6173 - val_acc: 0.6690\n",
      "Epoch 8/100\n",
      "100/100 [==============================] - 84s 838ms/step - loss: 0.6169 - acc: 0.6465 - val_loss: 0.5835 - val_acc: 0.6810\n",
      "Epoch 9/100\n",
      "100/100 [==============================] - 86s 855ms/step - loss: 0.6027 - acc: 0.6745 - val_loss: 0.5665 - val_acc: 0.7000\n",
      "Epoch 10/100\n",
      "100/100 [==============================] - 86s 860ms/step - loss: 0.5947 - acc: 0.6775 - val_loss: 0.5894 - val_acc: 0.6770\n",
      "Epoch 11/100\n",
      "100/100 [==============================] - 86s 860ms/step - loss: 0.5971 - acc: 0.6670 - val_loss: 0.5759 - val_acc: 0.6950\n",
      "Epoch 12/100\n",
      "100/100 [==============================] - 84s 840ms/step - loss: 0.5820 - acc: 0.6905 - val_loss: 0.6284 - val_acc: 0.6580\n",
      "Epoch 13/100\n",
      "100/100 [==============================] - 86s 856ms/step - loss: 0.5781 - acc: 0.6945 - val_loss: 0.5438 - val_acc: 0.7070\n",
      "Epoch 14/100\n",
      "100/100 [==============================] - 85s 855ms/step - loss: 0.5800 - acc: 0.6825 - val_loss: 0.5634 - val_acc: 0.6810\n",
      "Epoch 15/100\n",
      "100/100 [==============================] - 85s 852ms/step - loss: 0.5771 - acc: 0.6890 - val_loss: 0.5758 - val_acc: 0.6990\n",
      "Epoch 16/100\n",
      "100/100 [==============================] - 85s 850ms/step - loss: 0.5665 - acc: 0.7080 - val_loss: 0.5921 - val_acc: 0.6880\n",
      "Epoch 17/100\n",
      "100/100 [==============================] - 84s 838ms/step - loss: 0.5636 - acc: 0.7030 - val_loss: 0.5836 - val_acc: 0.6900\n",
      "Epoch 18/100\n",
      "100/100 [==============================] - 85s 848ms/step - loss: 0.5671 - acc: 0.6920 - val_loss: 0.5265 - val_acc: 0.7350\n",
      "Epoch 19/100\n",
      "100/100 [==============================] - 84s 844ms/step - loss: 0.5633 - acc: 0.6995 - val_loss: 0.5329 - val_acc: 0.7250\n",
      "Epoch 20/100\n",
      "100/100 [==============================] - 84s 838ms/step - loss: 0.5496 - acc: 0.7235 - val_loss: 0.5906 - val_acc: 0.7060\n",
      "Epoch 21/100\n",
      "100/100 [==============================] - 84s 838ms/step - loss: 0.5500 - acc: 0.7100 - val_loss: 0.5650 - val_acc: 0.7040\n",
      "Epoch 22/100\n",
      "100/100 [==============================] - 86s 857ms/step - loss: 0.5464 - acc: 0.7150 - val_loss: 0.5306 - val_acc: 0.7400\n",
      "Epoch 23/100\n",
      "100/100 [==============================] - 84s 842ms/step - loss: 0.5306 - acc: 0.7310 - val_loss: 0.5190 - val_acc: 0.7390\n",
      "Epoch 24/100\n",
      "100/100 [==============================] - 85s 847ms/step - loss: 0.5423 - acc: 0.7210 - val_loss: 0.5333 - val_acc: 0.7270\n",
      "Epoch 25/100\n",
      "100/100 [==============================] - 85s 848ms/step - loss: 0.5318 - acc: 0.7185 - val_loss: 0.5497 - val_acc: 0.7220\n",
      "Epoch 26/100\n",
      "100/100 [==============================] - 84s 841ms/step - loss: 0.5368 - acc: 0.7250 - val_loss: 0.5082 - val_acc: 0.7510\n",
      "Epoch 27/100\n",
      "100/100 [==============================] - 85s 852ms/step - loss: 0.5300 - acc: 0.7265 - val_loss: 0.5754 - val_acc: 0.6830\n",
      "Epoch 28/100\n",
      "100/100 [==============================] - 151s 2s/step - loss: 0.5246 - acc: 0.7420 - val_loss: 0.5190 - val_acc: 0.7380\n",
      "Epoch 29/100\n",
      "100/100 [==============================] - 147s 1s/step - loss: 0.5396 - acc: 0.7305 - val_loss: 0.5292 - val_acc: 0.7290\n",
      "Epoch 30/100\n",
      "100/100 [==============================] - 143s 1s/step - loss: 0.5274 - acc: 0.7320 - val_loss: 0.5231 - val_acc: 0.7440\n",
      "Epoch 31/100\n",
      "100/100 [==============================] - 147s 1s/step - loss: 0.5187 - acc: 0.7505 - val_loss: 0.5323 - val_acc: 0.7290\n",
      "Epoch 32/100\n",
      "100/100 [==============================] - 144s 1s/step - loss: 0.5162 - acc: 0.7515 - val_loss: 0.5015 - val_acc: 0.7550\n",
      "Epoch 33/100\n",
      "100/100 [==============================] - 144s 1s/step - loss: 0.5258 - acc: 0.7435 - val_loss: 0.5467 - val_acc: 0.7390\n",
      "Epoch 34/100\n",
      "100/100 [==============================] - 145s 1s/step - loss: 0.5208 - acc: 0.7425 - val_loss: 0.4934 - val_acc: 0.7610\n",
      "Epoch 35/100\n",
      "100/100 [==============================] - 144s 1s/step - loss: 0.4976 - acc: 0.7565 - val_loss: 0.6019 - val_acc: 0.6840\n",
      "Epoch 36/100\n",
      "100/100 [==============================] - 143s 1s/step - loss: 0.5101 - acc: 0.7495 - val_loss: 0.5412 - val_acc: 0.7330\n",
      "Epoch 37/100\n",
      "100/100 [==============================] - 142s 1s/step - loss: 0.5082 - acc: 0.7515 - val_loss: 0.4918 - val_acc: 0.7620\n",
      "Epoch 38/100\n",
      "100/100 [==============================] - 80s 805ms/step - loss: 0.4931 - acc: 0.7550 - val_loss: 0.5976 - val_acc: 0.6910\n",
      "Epoch 39/100\n",
      "100/100 [==============================] - 80s 802ms/step - loss: 0.4993 - acc: 0.7655 - val_loss: 0.5326 - val_acc: 0.7340\n",
      "Epoch 40/100\n",
      "100/100 [==============================] - 80s 805ms/step - loss: 0.4988 - acc: 0.7595 - val_loss: 0.4795 - val_acc: 0.7680\n",
      "Epoch 41/100\n",
      "100/100 [==============================] - 80s 804ms/step - loss: 0.4947 - acc: 0.7560 - val_loss: 0.5292 - val_acc: 0.7470\n",
      "Epoch 42/100\n",
      "100/100 [==============================] - 83s 834ms/step - loss: 0.4931 - acc: 0.7585 - val_loss: 0.5584 - val_acc: 0.7110\n",
      "Epoch 43/100\n",
      "100/100 [==============================] - 82s 822ms/step - loss: 0.4772 - acc: 0.7765 - val_loss: 0.5314 - val_acc: 0.7460\n",
      "Epoch 44/100\n",
      "100/100 [==============================] - 83s 826ms/step - loss: 0.4920 - acc: 0.7615 - val_loss: 0.5016 - val_acc: 0.7670\n",
      "Epoch 45/100\n",
      "100/100 [==============================] - 82s 824ms/step - loss: 0.4877 - acc: 0.7605 - val_loss: 0.4939 - val_acc: 0.7600\n",
      "Epoch 46/100\n",
      "100/100 [==============================] - 82s 822ms/step - loss: 0.4789 - acc: 0.7690 - val_loss: 0.5117 - val_acc: 0.7390\n",
      "Epoch 47/100\n",
      "100/100 [==============================] - 82s 824ms/step - loss: 0.4833 - acc: 0.7565 - val_loss: 0.5014 - val_acc: 0.7500\n",
      "Epoch 48/100\n",
      "100/100 [==============================] - 82s 821ms/step - loss: 0.4724 - acc: 0.7740 - val_loss: 0.4660 - val_acc: 0.7810\n",
      "Epoch 49/100\n",
      "100/100 [==============================] - 82s 818ms/step - loss: 0.4776 - acc: 0.7655 - val_loss: 0.5848 - val_acc: 0.7380\n",
      "Epoch 50/100\n",
      "100/100 [==============================] - 82s 822ms/step - loss: 0.4722 - acc: 0.7840 - val_loss: 0.4980 - val_acc: 0.7640\n",
      "Epoch 51/100\n",
      "100/100 [==============================] - 82s 816ms/step - loss: 0.4826 - acc: 0.7735 - val_loss: 0.5049 - val_acc: 0.7640\n",
      "Epoch 52/100\n",
      "100/100 [==============================] - 19628s 196s/step - loss: 0.4761 - acc: 0.7700 - val_loss: 0.4757 - val_acc: 0.7830\n",
      "Epoch 53/100\n",
      "100/100 [==============================] - 94s 943ms/step - loss: 0.4773 - acc: 0.7720 - val_loss: 0.5393 - val_acc: 0.7420\n",
      "Epoch 54/100\n",
      "100/100 [==============================] - 83s 832ms/step - loss: 0.4793 - acc: 0.7630 - val_loss: 0.4910 - val_acc: 0.7680\n",
      "Epoch 55/100\n",
      "100/100 [==============================] - 84s 840ms/step - loss: 0.4659 - acc: 0.7805 - val_loss: 0.4818 - val_acc: 0.7770\n",
      "Epoch 56/100\n",
      "100/100 [==============================] - 83s 829ms/step - loss: 0.4677 - acc: 0.7740 - val_loss: 0.4978 - val_acc: 0.7770\n",
      "Epoch 57/100\n",
      "100/100 [==============================] - 89s 889ms/step - loss: 0.4703 - acc: 0.7750 - val_loss: 0.5379 - val_acc: 0.7550\n",
      "Epoch 58/100\n",
      "100/100 [==============================] - 88s 884ms/step - loss: 0.4462 - acc: 0.7945 - val_loss: 0.4799 - val_acc: 0.7850\n",
      "Epoch 59/100\n",
      "100/100 [==============================] - 97s 971ms/step - loss: 0.4578 - acc: 0.7825 - val_loss: 0.4803 - val_acc: 0.7850\n",
      "Epoch 60/100\n",
      "100/100 [==============================] - 99s 985ms/step - loss: 0.4659 - acc: 0.7780 - val_loss: 0.5168 - val_acc: 0.7670\n",
      "Epoch 61/100\n",
      "100/100 [==============================] - 101s 1s/step - loss: 0.4488 - acc: 0.7935 - val_loss: 0.5228 - val_acc: 0.7610\n",
      "Epoch 62/100\n",
      "100/100 [==============================] - 96s 955ms/step - loss: 0.4445 - acc: 0.7965 - val_loss: 0.5942 - val_acc: 0.7410\n",
      "Epoch 63/100\n",
      "100/100 [==============================] - 125s 1s/step - loss: 0.4430 - acc: 0.7940 - val_loss: 0.5710 - val_acc: 0.7310\n",
      "Epoch 64/100\n",
      "100/100 [==============================] - 100s 996ms/step - loss: 0.4490 - acc: 0.7995 - val_loss: 0.5368 - val_acc: 0.7550\n",
      "Epoch 65/100\n",
      "100/100 [==============================] - 96s 960ms/step - loss: 0.4279 - acc: 0.8090 - val_loss: 0.4850 - val_acc: 0.7890\n",
      "Epoch 66/100\n",
      "100/100 [==============================] - 95s 953ms/step - loss: 0.4419 - acc: 0.7920 - val_loss: 0.5013 - val_acc: 0.7860\n",
      "Epoch 67/100\n",
      "100/100 [==============================] - 94s 943ms/step - loss: 0.4531 - acc: 0.7780 - val_loss: 0.4375 - val_acc: 0.8090\n",
      "Epoch 68/100\n",
      "100/100 [==============================] - 93s 932ms/step - loss: 0.4347 - acc: 0.7990 - val_loss: 0.4810 - val_acc: 0.7820\n",
      "Epoch 69/100\n",
      "100/100 [==============================] - 93s 932ms/step - loss: 0.4182 - acc: 0.8210 - val_loss: 0.4740 - val_acc: 0.7850\n",
      "Epoch 70/100\n",
      "100/100 [==============================] - 94s 937ms/step - loss: 0.4401 - acc: 0.7970 - val_loss: 0.4682 - val_acc: 0.7900\n",
      "Epoch 71/100\n",
      "100/100 [==============================] - 100s 1s/step - loss: 0.4373 - acc: 0.7970 - val_loss: 0.4941 - val_acc: 0.7780\n",
      "Epoch 72/100\n",
      "100/100 [==============================] - 106s 1s/step - loss: 0.4415 - acc: 0.7940 - val_loss: 0.4785 - val_acc: 0.7920\n",
      "Epoch 73/100\n",
      "100/100 [==============================] - 111s 1s/step - loss: 0.4339 - acc: 0.7995 - val_loss: 0.4906 - val_acc: 0.7770\n",
      "Epoch 74/100\n",
      "100/100 [==============================] - 104s 1s/step - loss: 0.4443 - acc: 0.7935 - val_loss: 0.4636 - val_acc: 0.7890\n",
      "Epoch 75/100\n",
      "100/100 [==============================] - 93s 928ms/step - loss: 0.4113 - acc: 0.8200 - val_loss: 0.4660 - val_acc: 0.7940\n",
      "Epoch 76/100\n",
      "100/100 [==============================] - 92s 924ms/step - loss: 0.4290 - acc: 0.8005 - val_loss: 0.4518 - val_acc: 0.7930\n",
      "Epoch 77/100\n",
      "100/100 [==============================] - 93s 930ms/step - loss: 0.4316 - acc: 0.8025 - val_loss: 0.4856 - val_acc: 0.7930\n",
      "Epoch 78/100\n",
      "100/100 [==============================] - 93s 927ms/step - loss: 0.4294 - acc: 0.8090 - val_loss: 0.4856 - val_acc: 0.7890\n",
      "Epoch 79/100\n",
      "100/100 [==============================] - 96s 964ms/step - loss: 0.4305 - acc: 0.7970 - val_loss: 0.4660 - val_acc: 0.7850\n",
      "Epoch 80/100\n",
      "100/100 [==============================] - 93s 930ms/step - loss: 0.4237 - acc: 0.7980 - val_loss: 0.4767 - val_acc: 0.7900\n",
      "Epoch 81/100\n",
      "100/100 [==============================] - 94s 945ms/step - loss: 0.4236 - acc: 0.7985 - val_loss: 0.5260 - val_acc: 0.7850\n",
      "Epoch 82/100\n",
      "100/100 [==============================] - 96s 959ms/step - loss: 0.4082 - acc: 0.8175 - val_loss: 0.4511 - val_acc: 0.7930\n",
      "Epoch 83/100\n",
      "100/100 [==============================] - 96s 957ms/step - loss: 0.4215 - acc: 0.8040 - val_loss: 0.4896 - val_acc: 0.7950\n",
      "Epoch 84/100\n",
      "100/100 [==============================] - 97s 974ms/step - loss: 0.4234 - acc: 0.7985 - val_loss: 0.5475 - val_acc: 0.7680\n",
      "Epoch 85/100\n",
      "100/100 [==============================] - 100s 1000ms/step - loss: 0.4120 - acc: 0.8135 - val_loss: 0.5792 - val_acc: 0.7310\n",
      "Epoch 86/100\n",
      "100/100 [==============================] - 98s 976ms/step - loss: 0.4165 - acc: 0.8050 - val_loss: 0.4549 - val_acc: 0.8010\n",
      "Epoch 87/100\n",
      "100/100 [==============================] - 98s 985ms/step - loss: 0.4008 - acc: 0.8075 - val_loss: 0.5008 - val_acc: 0.7830\n",
      "Epoch 88/100\n",
      "100/100 [==============================] - 95s 951ms/step - loss: 0.4077 - acc: 0.8140 - val_loss: 0.5397 - val_acc: 0.7790\n",
      "Epoch 89/100\n",
      "100/100 [==============================] - 112s 1s/step - loss: 0.4062 - acc: 0.8215 - val_loss: 0.5340 - val_acc: 0.7890\n",
      "Epoch 90/100\n",
      "100/100 [==============================] - 103s 1s/step - loss: 0.4166 - acc: 0.8140 - val_loss: 0.4561 - val_acc: 0.8020\n",
      "Epoch 91/100\n",
      "100/100 [==============================] - 101s 1s/step - loss: 0.4084 - acc: 0.8165 - val_loss: 0.4515 - val_acc: 0.8100\n",
      "Epoch 92/100\n",
      "100/100 [==============================] - 98s 979ms/step - loss: 0.4093 - acc: 0.8155 - val_loss: 0.5323 - val_acc: 0.7650\n",
      "Epoch 93/100\n",
      "100/100 [==============================] - 104s 1s/step - loss: 0.4081 - acc: 0.8105 - val_loss: 0.5586 - val_acc: 0.7470\n",
      "Epoch 94/100\n",
      "100/100 [==============================] - 102s 1s/step - loss: 0.3927 - acc: 0.8175 - val_loss: 0.5399 - val_acc: 0.7830\n",
      "Epoch 95/100\n",
      "100/100 [==============================] - 92s 920ms/step - loss: 0.3926 - acc: 0.8285 - val_loss: 0.4463 - val_acc: 0.7990\n",
      "Epoch 96/100\n",
      "100/100 [==============================] - 89s 893ms/step - loss: 0.4023 - acc: 0.8195 - val_loss: 0.4552 - val_acc: 0.8030\n",
      "Epoch 97/100\n",
      "100/100 [==============================] - 93s 927ms/step - loss: 0.4086 - acc: 0.8185 - val_loss: 0.4499 - val_acc: 0.8010\n",
      "Epoch 98/100\n",
      "100/100 [==============================] - 92s 919ms/step - loss: 0.3883 - acc: 0.8225 - val_loss: 0.4977 - val_acc: 0.7690\n",
      "Epoch 99/100\n",
      "100/100 [==============================] - 93s 930ms/step - loss: 0.3966 - acc: 0.8135 - val_loss: 0.4454 - val_acc: 0.8110\n",
      "Epoch 100/100\n",
      "100/100 [==============================] - 93s 927ms/step - loss: 0.3920 - acc: 0.8185 - val_loss: 0.4398 - val_acc: 0.8130\n"
     ]
    }
   ],
   "source": [
    "history = model.fit_generator(train_generator,\n",
    "                             steps_per_epoch=100,\n",
    "                             epochs=100,\n",
    "                             validation_data=validation_generator,\n",
    "                             validation_steps=50)"
   ]
  },
  {
   "cell_type": "code",
   "execution_count": 10,
   "metadata": {},
   "outputs": [],
   "source": [
    "import matplotlib.pyplot as plt\n",
    "import pandas as pd"
   ]
  },
  {
   "cell_type": "code",
   "execution_count": 11,
   "metadata": {},
   "outputs": [
    {
     "data": {
      "text/plain": [
       "<function matplotlib.pyplot.show(*args, **kw)>"
      ]
     },
     "execution_count": 11,
     "metadata": {},
     "output_type": "execute_result"
    },
    {
     "data": {
      "image/png": "[encoded data removed]",
      "text/plain": [
       "<Figure size 576x360 with 1 Axes>"
      ]
     },
     "metadata": {
      "needs_background": "light"
     },
     "output_type": "display_data"
    }
   ],
   "source": [
    "pd.DataFrame(history.history).plot(figsize=(8,5))\n",
    "plt.grid(True)\n",
    "plt.gca().set_ylim(0,1)\n",
    "plt.show"
   ]
  },
  {
   "cell_type": "code",
   "execution_count": 12,
   "metadata": {},
   "outputs": [],
   "source": [
    "model.save('cats_and_dogs_augmented_cnn.h5')"
   ]
  }
 ],
 "metadata": {
  "kernelspec": {
   "display_name": "Python 3",
   "language": "python",
   "name": "python3"
  },
  "language_info": {
   "codemirror_mode": {
    "name": "ipython",
    "version": 3
   },
   "file_extension": ".py",
   "mimetype": "text/x-python",
   "name": "python",
   "nbconvert_exporter": "python",
   "pygments_lexer": "ipython3",
   "version": "3.7.9"
  }
 },
 "nbformat": 4,
 "nbformat_minor": 4
}
