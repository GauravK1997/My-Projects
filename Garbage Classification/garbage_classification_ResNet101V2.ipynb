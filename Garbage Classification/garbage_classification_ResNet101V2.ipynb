{
 "cells": [
  {
   "cell_type": "code",
   "execution_count": 2,
   "metadata": {
    "colab": {
     "base_uri": "https://localhost:8080/"
    },
    "executionInfo": {
     "elapsed": 28905,
     "status": "ok",
     "timestamp": 1613569720182,
     "user": {
      "displayName": "Gaurav Kamble",
      "photoUrl": "https://lh3.googleusercontent.com/a-/AOh14GixcBN0H7c8PtdTfQCDn5HlyzyP42jgBrjO31Lc=s64",
      "userId": "01233196997439613538"
     },
     "user_tz": -330
    },
    "id": "GX3FIypiitPn",
    "outputId": "9e4bcd6d-b3d4-4b84-a5c8-4403c3c82872"
   },
   "outputs": [
    {
     "name": "stdout",
     "output_type": "stream",
     "text": [
      "Mounted at /content/gdrive\n"
     ]
    }
   ],
   "source": [
    "from google.colab import drive\n",
    "drive.mount('/content/gdrive')"
   ]
  },
  {
   "cell_type": "code",
   "execution_count": 3,
   "metadata": {
    "executionInfo": {
     "elapsed": 1400,
     "status": "ok",
     "timestamp": 1613569763626,
     "user": {
      "displayName": "Gaurav Kamble",
      "photoUrl": "https://lh3.googleusercontent.com/a-/AOh14GixcBN0H7c8PtdTfQCDn5HlyzyP42jgBrjO31Lc=s64",
      "userId": "01233196997439613538"
     },
     "user_tz": -330
    },
    "id": "cfLI2VFFjmTl"
   },
   "outputs": [],
   "source": [
    "import os\n",
    "os.environ['KAGGLE_CONFIG_DIR']='/content/gdrive/MyDrive/kaggle_datasets'"
   ]
  },
  {
   "cell_type": "code",
   "execution_count": 4,
   "metadata": {
    "colab": {
     "base_uri": "https://localhost:8080/"
    },
    "executionInfo": {
     "elapsed": 1019,
     "status": "ok",
     "timestamp": 1613569764045,
     "user": {
      "displayName": "Gaurav Kamble",
      "photoUrl": "https://lh3.googleusercontent.com/a-/AOh14GixcBN0H7c8PtdTfQCDn5HlyzyP42jgBrjO31Lc=s64",
      "userId": "01233196997439613538"
     },
     "user_tz": -330
    },
    "id": "9SDuQyMvjxCY",
    "outputId": "680148ee-e109-4b7f-afb1-7905c6a7ecfb"
   },
   "outputs": [
    {
     "name": "stdout",
     "output_type": "stream",
     "text": [
      "/content/gdrive/MyDrive/kaggle_datasets\n"
     ]
    }
   ],
   "source": [
    "%cd '/content/gdrive/MyDrive/kaggle_datasets'"
   ]
  },
  {
   "cell_type": "code",
   "execution_count": 5,
   "metadata": {
    "colab": {
     "base_uri": "https://localhost:8080/"
    },
    "executionInfo": {
     "elapsed": 1262,
     "status": "ok",
     "timestamp": 1613569765766,
     "user": {
      "displayName": "Gaurav Kamble",
      "photoUrl": "https://lh3.googleusercontent.com/a-/AOh14GixcBN0H7c8PtdTfQCDn5HlyzyP42jgBrjO31Lc=s64",
      "userId": "01233196997439613538"
     },
     "user_tz": -330
    },
    "id": "vv6XLWBKjzPo",
    "outputId": "16c5c2eb-df1a-41ad-bbfa-aee68f726129"
   },
   "outputs": [
    {
     "name": "stdout",
     "output_type": "stream",
     "text": [
      "checkpoint\t\t\t\t\t   kaggle.json\n",
      "colab_fruits.h5\t\t\t\t\t   messy-vs-clean-room\n",
      "colab_fruits_weights.index\t\t\t   model-for-detecting-malaria\n",
      "colab_inception_resnet_malaria_detection_model.h5  natural-images\n",
      "garbage-classification\t\t\t\t   real-and-fake-face-detection\n",
      "indian-food-classification\t\t\t   sarscov2-ctscan-dataset\n",
      "intel-image-classification\n"
     ]
    }
   ],
   "source": [
    "!ls"
   ]
  },
  {
   "cell_type": "code",
   "execution_count": null,
   "metadata": {
    "colab": {
     "base_uri": "https://localhost:8080/"
    },
    "executionInfo": {
     "elapsed": 4865,
     "status": "ok",
     "timestamp": 1613532486440,
     "user": {
      "displayName": "Gaurav Kamble",
      "photoUrl": "https://lh3.googleusercontent.com/a-/AOh14GixcBN0H7c8PtdTfQCDn5HlyzyP42jgBrjO31Lc=s64",
      "userId": "01233196997439613538"
     },
     "user_tz": -330
    },
    "id": "B5LyLzggAwS4",
    "outputId": "9de3da63-f85d-4314-affd-baf23cb2805f"
   },
   "outputs": [
    {
     "name": "stdout",
     "output_type": "stream",
     "text": [
      "Downloading garbage-classification.zip to /content/gdrive/MyDrive/kaggle_datasets/garbage-classification\n",
      " 95% 227M/239M [00:02<00:00, 70.4MB/s]\n",
      "100% 239M/239M [00:02<00:00, 92.2MB/s]\n"
     ]
    }
   ],
   "source": [
    "!kaggle datasets download -d mostafaabla/garbage-classification"
   ]
  },
  {
   "cell_type": "code",
   "execution_count": null,
   "metadata": {
    "id": "Wi6RkwxUAwKg"
   },
   "outputs": [],
   "source": [
    "!mkdir garbage-classification\n",
    "!mv garbage-classification.zip garbage-classification"
   ]
  },
  {
   "cell_type": "code",
   "execution_count": 6,
   "metadata": {
    "colab": {
     "base_uri": "https://localhost:8080/"
    },
    "executionInfo": {
     "elapsed": 1213,
     "status": "ok",
     "timestamp": 1613569769973,
     "user": {
      "displayName": "Gaurav Kamble",
      "photoUrl": "https://lh3.googleusercontent.com/a-/AOh14GixcBN0H7c8PtdTfQCDn5HlyzyP42jgBrjO31Lc=s64",
      "userId": "01233196997439613538"
     },
     "user_tz": -330
    },
    "id": "2lZbD42jNMvM",
    "outputId": "6416e1f6-905f-4be3-a5db-22d5eb156bad"
   },
   "outputs": [
    {
     "name": "stdout",
     "output_type": "stream",
     "text": [
      "/content/gdrive/MyDrive/kaggle_datasets/garbage-classification\n"
     ]
    }
   ],
   "source": [
    "%cd garbage-classification"
   ]
  },
  {
   "cell_type": "code",
   "execution_count": 7,
   "metadata": {
    "executionInfo": {
     "elapsed": 3943,
     "status": "ok",
     "timestamp": 1613569783836,
     "user": {
      "displayName": "Gaurav Kamble",
      "photoUrl": "https://lh3.googleusercontent.com/a-/AOh14GixcBN0H7c8PtdTfQCDn5HlyzyP42jgBrjO31Lc=s64",
      "userId": "01233196997439613538"
     },
     "user_tz": -330
    },
    "id": "VhkDmIYekrPA"
   },
   "outputs": [],
   "source": [
    "import tensorflow as tf\n",
    "from tensorflow import keras\n",
    "from tensorflow.keras import models\n",
    "from tensorflow.keras import layers\n",
    "from tensorflow.keras.preprocessing.image import ImageDataGenerator"
   ]
  },
  {
   "cell_type": "code",
   "execution_count": 8,
   "metadata": {
    "executionInfo": {
     "elapsed": 1584,
     "status": "ok",
     "timestamp": 1613569783839,
     "user": {
      "displayName": "Gaurav Kamble",
      "photoUrl": "https://lh3.googleusercontent.com/a-/AOh14GixcBN0H7c8PtdTfQCDn5HlyzyP42jgBrjO31Lc=s64",
      "userId": "01233196997439613538"
     },
     "user_tz": -330
    },
    "id": "FgmficCcBXff"
   },
   "outputs": [],
   "source": [
    "from tensorflow.keras.applications.resnet_v2 import ResNet101V2"
   ]
  },
  {
   "cell_type": "code",
   "execution_count": 9,
   "metadata": {
    "colab": {
     "base_uri": "https://localhost:8080/"
    },
    "executionInfo": {
     "elapsed": 6867,
     "status": "ok",
     "timestamp": 1613569794614,
     "user": {
      "displayName": "Gaurav Kamble",
      "photoUrl": "https://lh3.googleusercontent.com/a-/AOh14GixcBN0H7c8PtdTfQCDn5HlyzyP42jgBrjO31Lc=s64",
      "userId": "01233196997439613538"
     },
     "user_tz": -330
    },
    "id": "cgyzOtTak1gI",
    "outputId": "09f4e862-4dc2-4a5c-af9b-9fe8734290b4"
   },
   "outputs": [
    {
     "name": "stdout",
     "output_type": "stream",
     "text": [
      "Downloading data from https://storage.googleapis.com/tensorflow/keras-applications/resnet/resnet101v2_weights_tf_dim_ordering_tf_kernels_notop.h5\n",
      "171319296/171317808 [==============================] - 2s 0us/step\n"
     ]
    }
   ],
   "source": [
    "conv_base = ResNet101V2(include_top=False, input_shape=(150,150,3))"
   ]
  },
  {
   "cell_type": "code",
   "execution_count": null,
   "metadata": {
    "id": "zjVVXdjfk5DF"
   },
   "outputs": [],
   "source": [
    "for layer in conv_base.layers:\n",
    "  layer.trainable = False"
   ]
  },
  {
   "cell_type": "code",
   "execution_count": null,
   "metadata": {
    "id": "dZJ5oKRlk1Tq"
   },
   "outputs": [],
   "source": [
    "train_dir = '/content/gdrive/MyDrive/kaggle_datasets/garbage-classification/garbage_classification'\n",
    "val_dir = '/content/gdrive/MyDrive/kaggle_datasets/garbage-classification/garbage_classification'"
   ]
  },
  {
   "cell_type": "code",
   "execution_count": null,
   "metadata": {
    "id": "bYM_CPN7k8BE"
   },
   "outputs": [],
   "source": [
    "train_datagen = ImageDataGenerator(rescale=1./255,\n",
    "                                   rotation_range=40,\n",
    "                                   width_shift_range=0.2,\n",
    "                                   height_shift_range=0.2,\n",
    "                                   shear_range=0.2,\n",
    "                                   zoom_range=0.2,\n",
    "                                   horizontal_flip=True,\n",
    "                                   validation_split=0.3)\n",
    "\n",
    "val_datagen = ImageDataGenerator(rescale=1./255)"
   ]
  },
  {
   "cell_type": "code",
   "execution_count": null,
   "metadata": {
    "colab": {
     "base_uri": "https://localhost:8080/"
    },
    "executionInfo": {
     "elapsed": 1486,
     "status": "ok",
     "timestamp": 1613533495849,
     "user": {
      "displayName": "Gaurav Kamble",
      "photoUrl": "https://lh3.googleusercontent.com/a-/AOh14GixcBN0H7c8PtdTfQCDn5HlyzyP42jgBrjO31Lc=s64",
      "userId": "01233196997439613538"
     },
     "user_tz": -330
    },
    "id": "4xzDqzpamzn1",
    "outputId": "955bcbb7-48ee-4dc1-b561-3093079611e6"
   },
   "outputs": [
    {
     "name": "stdout",
     "output_type": "stream",
     "text": [
      "Found 10865 images belonging to 12 classes.\n",
      "Found 4650 images belonging to 12 classes.\n"
     ]
    }
   ],
   "source": [
    "train_generator = train_datagen.flow_from_directory(train_dir,\n",
    "                                                    target_size=(150,150),\n",
    "                                                    batch_size=16,\n",
    "                                                    class_mode='categorical',\n",
    "                                                    subset='training')\n",
    "\n",
    "validation_generator = train_datagen.flow_from_directory(val_dir,\n",
    "                                                        target_size=(150,150),\n",
    "                                                        batch_size=16,\n",
    "                                                        class_mode='categorical',\n",
    "                                                        subset='validation')"
   ]
  },
  {
   "cell_type": "code",
   "execution_count": null,
   "metadata": {
    "id": "ZDZ5ZOIFDqdn"
   },
   "outputs": [],
   "source": [
    "model = models.Sequential([\n",
    "                           conv_base,\n",
    "                           layers.Flatten(),\n",
    "                           layers.Dropout((0.5)),\n",
    "                           layers.Dense(512, activation='relu'),\n",
    "                           layers.BatchNormalization(),\n",
    "                           layers.Dense(256, activation='relu'),\n",
    "                           layers.Dense(12, activation='softmax')\n",
    "])"
   ]
  },
  {
   "cell_type": "code",
   "execution_count": null,
   "metadata": {
    "colab": {
     "base_uri": "https://localhost:8080/"
    },
    "executionInfo": {
     "elapsed": 977,
     "status": "ok",
     "timestamp": 1613533513076,
     "user": {
      "displayName": "Gaurav Kamble",
      "photoUrl": "https://lh3.googleusercontent.com/a-/AOh14GixcBN0H7c8PtdTfQCDn5HlyzyP42jgBrjO31Lc=s64",
      "userId": "01233196997439613538"
     },
     "user_tz": -330
    },
    "id": "RLt4yC2Cmzao",
    "outputId": "a5ec1d36-e458-4ad2-eb4f-e92e1c51a022"
   },
   "outputs": [
    {
     "name": "stdout",
     "output_type": "stream",
     "text": [
      "Model: \"sequential_3\"\n",
      "_________________________________________________________________\n",
      "Layer (type)                 Output Shape              Param #   \n",
      "=================================================================\n",
      "resnet101v2 (Functional)     (None, 5, 5, 2048)        42626560  \n",
      "_________________________________________________________________\n",
      "flatten_3 (Flatten)          (None, 51200)             0         \n",
      "_________________________________________________________________\n",
      "dropout_3 (Dropout)          (None, 51200)             0         \n",
      "_________________________________________________________________\n",
      "dense_9 (Dense)              (None, 512)               26214912  \n",
      "_________________________________________________________________\n",
      "batch_normalization_3 (Batch (None, 512)               2048      \n",
      "_________________________________________________________________\n",
      "dense_10 (Dense)             (None, 256)               131328    \n",
      "_________________________________________________________________\n",
      "dense_11 (Dense)             (None, 12)                3084      \n",
      "=================================================================\n",
      "Total params: 68,977,932\n",
      "Trainable params: 26,350,348\n",
      "Non-trainable params: 42,627,584\n",
      "_________________________________________________________________\n"
     ]
    }
   ],
   "source": [
    "model.summary()"
   ]
  },
  {
   "cell_type": "code",
   "execution_count": null,
   "metadata": {
    "id": "fBYLXhmVmzZa"
   },
   "outputs": [],
   "source": [
    "model.compile(tf.keras.optimizers.Adam(learning_rate=2e-4),\n",
    "              tf.keras.losses.categorical_crossentropy,\n",
    "              metrics=['accuracy'])"
   ]
  },
  {
   "cell_type": "code",
   "execution_count": null,
   "metadata": {
    "colab": {
     "base_uri": "https://localhost:8080/"
    },
    "executionInfo": {
     "elapsed": 1350076,
     "status": "ok",
     "timestamp": 1613534870077,
     "user": {
      "displayName": "Gaurav Kamble",
      "photoUrl": "https://lh3.googleusercontent.com/a-/AOh14GixcBN0H7c8PtdTfQCDn5HlyzyP42jgBrjO31Lc=s64",
      "userId": "01233196997439613538"
     },
     "user_tz": -330
    },
    "id": "EOe3i6VHmzOE",
    "outputId": "d9ce9a34-0615-4ae5-90a1-72bee64d087a"
   },
   "outputs": [
    {
     "name": "stderr",
     "output_type": "stream",
     "text": [
      "/usr/local/lib/python3.6/dist-packages/tensorflow/python/keras/engine/training.py:1844: UserWarning: `Model.fit_generator` is deprecated and will be removed in a future version. Please use `Model.fit`, which supports generators.\n",
      "  warnings.warn('`Model.fit_generator` is deprecated and '\n"
     ]
    },
    {
     "name": "stdout",
     "output_type": "stream",
     "text": [
      "Epoch 1/10\n",
      "680/680 [==============================] - 147s 199ms/step - loss: 0.8991 - accuracy: 0.7303 - val_loss: 0.5536 - val_accuracy: 0.8267\n",
      "Epoch 2/10\n",
      "680/680 [==============================] - 133s 196ms/step - loss: 0.4443 - accuracy: 0.8589 - val_loss: 0.4725 - val_accuracy: 0.8538\n",
      "Epoch 3/10\n",
      "680/680 [==============================] - 132s 195ms/step - loss: 0.3907 - accuracy: 0.8748 - val_loss: 0.4250 - val_accuracy: 0.8594\n",
      "Epoch 4/10\n",
      "680/680 [==============================] - 134s 197ms/step - loss: 0.3419 - accuracy: 0.8850 - val_loss: 0.4495 - val_accuracy: 0.8611\n",
      "Epoch 5/10\n",
      "680/680 [==============================] - 133s 196ms/step - loss: 0.3064 - accuracy: 0.9018 - val_loss: 0.3944 - val_accuracy: 0.8714\n",
      "Epoch 6/10\n",
      "680/680 [==============================] - 134s 197ms/step - loss: 0.3170 - accuracy: 0.8926 - val_loss: 0.4371 - val_accuracy: 0.8615\n",
      "Epoch 7/10\n",
      "680/680 [==============================] - 134s 197ms/step - loss: 0.2791 - accuracy: 0.9071 - val_loss: 0.3845 - val_accuracy: 0.8785\n",
      "Epoch 8/10\n",
      "680/680 [==============================] - 134s 197ms/step - loss: 0.2644 - accuracy: 0.9118 - val_loss: 0.4031 - val_accuracy: 0.8688\n",
      "Epoch 9/10\n",
      "680/680 [==============================] - 133s 195ms/step - loss: 0.2463 - accuracy: 0.9167 - val_loss: 0.3982 - val_accuracy: 0.8727\n",
      "Epoch 10/10\n",
      "680/680 [==============================] - 132s 195ms/step - loss: 0.2378 - accuracy: 0.9190 - val_loss: 0.4190 - val_accuracy: 0.8701\n"
     ]
    }
   ],
   "source": [
    "history = model.fit_generator(train_generator,\n",
    "                             steps_per_epoch=680,\n",
    "                             epochs=10,\n",
    "                             validation_data=validation_generator,\n",
    "                            validation_steps=291)\n",
    "\n",
    "model.save('colab_garbage_classification_ResNet101V2.h5')"
   ]
  }
 ],
 "metadata": {
  "accelerator": "GPU",
  "colab": {
   "authorship_tag": "ABX9TyNhcLhe5nhgYBRkarA+g9O9",
   "collapsed_sections": [],
   "name": "garbage_classification_ResNet101V2.ipynb",
   "provenance": []
  },
  "kernelspec": {
   "display_name": "Python 3",
   "language": "python",
   "name": "python3"
  },
  "language_info": {
   "codemirror_mode": {
    "name": "ipython",
    "version": 3
   },
   "file_extension": ".py",
   "mimetype": "text/x-python",
   "name": "python",
   "nbconvert_exporter": "python",
   "pygments_lexer": "ipython3",
   "version": "3.7.9"
  }
 },
 "nbformat": 4,
 "nbformat_minor": 1
}
