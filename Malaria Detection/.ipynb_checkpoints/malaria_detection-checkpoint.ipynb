{
 "cells": [
  {
   "cell_type": "code",
   "execution_count": 5,
   "metadata": {
    "colab": {
     "base_uri": "https://localhost:8080/"
    },
    "executionInfo": {
     "elapsed": 27806,
     "status": "ok",
     "timestamp": 1613182662195,
     "user": {
      "displayName": "Gaurav Kamble",
      "photoUrl": "https://lh3.googleusercontent.com/a-/AOh14GixcBN0H7c8PtdTfQCDn5HlyzyP42jgBrjO31Lc=s64",
      "userId": "01233196997439613538"
     },
     "user_tz": -330
    },
    "id": "IiGbwuSNLIwV",
    "outputId": "c29d848c-501f-41eb-c105-b343a87bd540"
   },
   "outputs": [
    {
     "name": "stdout",
     "output_type": "stream",
     "text": [
      "Mounted at /content/gdrive\n"
     ]
    }
   ],
   "source": [
    "from google.colab import drive\n",
    "drive.mount('/content/gdrive')"
   ]
  },
  {
   "cell_type": "code",
   "execution_count": 9,
   "metadata": {
    "executionInfo": {
     "elapsed": 1878,
     "status": "ok",
     "timestamp": 1613215899219,
     "user": {
      "displayName": "Gaurav Kamble",
      "photoUrl": "https://lh3.googleusercontent.com/a-/AOh14GixcBN0H7c8PtdTfQCDn5HlyzyP42jgBrjO31Lc=s64",
      "userId": "01233196997439613538"
     },
     "user_tz": -330
    },
    "id": "E9pbppW2KshB"
   },
   "outputs": [],
   "source": [
    "import os\n",
    "os.environ['KAGGLE_CONFIG_DIR']='/content/gdrive/MyDrive/kaggle_datasets'"
   ]
  },
  {
   "cell_type": "code",
   "execution_count": 7,
   "metadata": {
    "colab": {
     "base_uri": "https://localhost:8080/"
    },
    "executionInfo": {
     "elapsed": 1139,
     "status": "ok",
     "timestamp": 1613182688780,
     "user": {
      "displayName": "Gaurav Kamble",
      "photoUrl": "https://lh3.googleusercontent.com/a-/AOh14GixcBN0H7c8PtdTfQCDn5HlyzyP42jgBrjO31Lc=s64",
      "userId": "01233196997439613538"
     },
     "user_tz": -330
    },
    "id": "MvylHHlPLf0U",
    "outputId": "34081b6d-ea84-493a-e346-008b67faf688"
   },
   "outputs": [
    {
     "name": "stdout",
     "output_type": "stream",
     "text": [
      "/content/gdrive/MyDrive/kaggle_datasets\n"
     ]
    }
   ],
   "source": [
    "%cd /content/gdrive/MyDrive/kaggle_datasets"
   ]
  },
  {
   "cell_type": "code",
   "execution_count": 8,
   "metadata": {
    "colab": {
     "base_uri": "https://localhost:8080/"
    },
    "collapsed": true,
    "executionInfo": {
     "elapsed": 1117,
     "status": "ok",
     "timestamp": 1613182704768,
     "user": {
      "displayName": "Gaurav Kamble",
      "photoUrl": "https://lh3.googleusercontent.com/a-/AOh14GixcBN0H7c8PtdTfQCDn5HlyzyP42jgBrjO31Lc=s64",
      "userId": "01233196997439613538"
     },
     "user_tz": -330
    },
    "id": "ctbo86iXLlli",
    "outputId": "6d8e2297-c201-47d3-ed5e-55f56497561a"
   },
   "outputs": [
    {
     "name": "stdout",
     "output_type": "stream",
     "text": [
      "cat-and-dog\n",
      "checkpoint\n",
      "colab_fruits.h5\n",
      "colab_fruits_weights.data-00000-of-00001\n",
      "colab_fruits_weights.index\n",
      "fruits-fresh-and-rotten-for-classification\n",
      "kaggle.json\n",
      "messy-vs-clean-room\n"
     ]
    }
   ],
   "source": [
    "!ls"
   ]
  },
  {
   "cell_type": "code",
   "execution_count": 9,
   "metadata": {
    "colab": {
     "base_uri": "https://localhost:8080/"
    },
    "executionInfo": {
     "elapsed": 12004,
     "status": "ok",
     "timestamp": 1613182754144,
     "user": {
      "displayName": "Gaurav Kamble",
      "photoUrl": "https://lh3.googleusercontent.com/a-/AOh14GixcBN0H7c8PtdTfQCDn5HlyzyP42jgBrjO31Lc=s64",
      "userId": "01233196997439613538"
     },
     "user_tz": -330
    },
    "id": "RPs-QyQ5LpfV",
    "outputId": "1e5c5adf-4939-4696-d5a5-7cde438a6b61"
   },
   "outputs": [
    {
     "name": "stdout",
     "output_type": "stream",
     "text": [
      "Downloading cell-images-for-detecting-malaria.zip to /content/gdrive/MyDrive/kaggle_datasets\n",
      "100% 674M/675M [00:09<00:00, 71.3MB/s]\n",
      "100% 675M/675M [00:09<00:00, 77.0MB/s]\n"
     ]
    }
   ],
   "source": [
    "!kaggle datasets download -d iarunava/cell-images-for-detecting-malaria"
   ]
  },
  {
   "cell_type": "code",
   "execution_count": 10,
   "metadata": {
    "executionInfo": {
     "elapsed": 1317,
     "status": "ok",
     "timestamp": 1613182874341,
     "user": {
      "displayName": "Gaurav Kamble",
      "photoUrl": "https://lh3.googleusercontent.com/a-/AOh14GixcBN0H7c8PtdTfQCDn5HlyzyP42jgBrjO31Lc=s64",
      "userId": "01233196997439613538"
     },
     "user_tz": -330
    },
    "id": "TRpk_UFzLy4_"
   },
   "outputs": [],
   "source": [
    "!mkdir model-for-detecting-malaria\n",
    "!mv cell-images-for-detecting-malaria.zip model-for-detecting-malaria"
   ]
  },
  {
   "cell_type": "code",
   "execution_count": 11,
   "metadata": {
    "colab": {
     "base_uri": "https://localhost:8080/"
    },
    "executionInfo": {
     "elapsed": 1208,
     "status": "ok",
     "timestamp": 1613182939888,
     "user": {
      "displayName": "Gaurav Kamble",
      "photoUrl": "https://lh3.googleusercontent.com/a-/AOh14GixcBN0H7c8PtdTfQCDn5HlyzyP42jgBrjO31Lc=s64",
      "userId": "01233196997439613538"
     },
     "user_tz": -330
    },
    "id": "LMe7WFXHMS1x",
    "outputId": "3f47b79c-ad33-45f5-f229-9d9dc0477731"
   },
   "outputs": [
    {
     "name": "stdout",
     "output_type": "stream",
     "text": [
      "/content/gdrive/My Drive/kaggle_datasets/model-for-detecting-malaria\n"
     ]
    }
   ],
   "source": [
    "%cd model-for-detecting-malaria"
   ]
  },
  {
   "cell_type": "code",
   "execution_count": 12,
   "metadata": {
    "executionInfo": {
     "elapsed": 1524,
     "status": "ok",
     "timestamp": 1613215976615,
     "user": {
      "displayName": "Gaurav Kamble",
      "photoUrl": "https://lh3.googleusercontent.com/a-/AOh14GixcBN0H7c8PtdTfQCDn5HlyzyP42jgBrjO31Lc=s64",
      "userId": "01233196997439613538"
     },
     "user_tz": -330
    },
    "id": "Af02mPYrMpv6"
   },
   "outputs": [],
   "source": [
    "import tensorflow as tf\n",
    "from tensorflow import keras\n",
    "from tensorflow.keras import models\n",
    "from tensorflow.keras import layers\n",
    "from tensorflow.keras.preprocessing.image import ImageDataGenerator"
   ]
  },
  {
   "cell_type": "code",
   "execution_count": 51,
   "metadata": {
    "executionInfo": {
     "elapsed": 1020,
     "status": "ok",
     "timestamp": 1613201433550,
     "user": {
      "displayName": "Gaurav Kamble",
      "photoUrl": "https://lh3.googleusercontent.com/a-/AOh14GixcBN0H7c8PtdTfQCDn5HlyzyP42jgBrjO31Lc=s64",
      "userId": "01233196997439613538"
     },
     "user_tz": -330
    },
    "id": "NnVSSFmBND30"
   },
   "outputs": [],
   "source": [
    "train_dir = '/content/gdrive/MyDrive/kaggle_datasets/model-for-detecting-malaria/cell_images/cell_images'\n",
    "val_dir = '/content/gdrive/MyDrive/kaggle_datasets/model-for-detecting-malaria/cell_images/cell_images'"
   ]
  },
  {
   "cell_type": "code",
   "execution_count": 52,
   "metadata": {
    "executionInfo": {
     "elapsed": 2114,
     "status": "ok",
     "timestamp": 1613201439631,
     "user": {
      "displayName": "Gaurav Kamble",
      "photoUrl": "https://lh3.googleusercontent.com/a-/AOh14GixcBN0H7c8PtdTfQCDn5HlyzyP42jgBrjO31Lc=s64",
      "userId": "01233196997439613538"
     },
     "user_tz": -330
    },
    "id": "YRY91rjXNQbL"
   },
   "outputs": [],
   "source": [
    "train_datagen = ImageDataGenerator(rescale=1./255,\n",
    "                                   rotation_range=40,\n",
    "                                   width_shift_range=0.2,\n",
    "                                   height_shift_range=0.2,\n",
    "                                   shear_range=0.2,\n",
    "                                   zoom_range=0.2,\n",
    "                                   horizontal_flip=True,\n",
    "                                   validation_split=0.3)\n",
    "\n",
    "val_datagen = ImageDataGenerator(rescale=1./255)"
   ]
  },
  {
   "cell_type": "code",
   "execution_count": 54,
   "metadata": {
    "colab": {
     "base_uri": "https://localhost:8080/"
    },
    "executionInfo": {
     "elapsed": 2053,
     "status": "ok",
     "timestamp": 1613201459435,
     "user": {
      "displayName": "Gaurav Kamble",
      "photoUrl": "https://lh3.googleusercontent.com/a-/AOh14GixcBN0H7c8PtdTfQCDn5HlyzyP42jgBrjO31Lc=s64",
      "userId": "01233196997439613538"
     },
     "user_tz": -330
    },
    "id": "KZQOM8snNS9W",
    "outputId": "5b5bb29f-32c9-402a-8c83-393cb1c4611b"
   },
   "outputs": [
    {
     "name": "stdout",
     "output_type": "stream",
     "text": [
      "Found 19292 images belonging to 2 classes.\n",
      "Found 8266 images belonging to 2 classes.\n"
     ]
    }
   ],
   "source": [
    "train_generator = train_datagen.flow_from_directory(train_dir,\n",
    "                                                    target_size=(150,150),\n",
    "                                                    batch_size=16,\n",
    "                                                    class_mode='binary',\n",
    "                                                    subset='training')\n",
    "\n",
    "validation_generator = train_datagen.flow_from_directory(val_dir,\n",
    "                                                        target_size=(150,150),\n",
    "                                                        batch_size=16,\n",
    "                                                        class_mode='binary',\n",
    "                                                        subset='validation')"
   ]
  },
  {
   "cell_type": "code",
   "execution_count": 29,
   "metadata": {
    "colab": {
     "base_uri": "https://localhost:8080/"
    },
    "collapsed": true,
    "executionInfo": {
     "elapsed": 1064,
     "status": "ok",
     "timestamp": 1613191050110,
     "user": {
      "displayName": "Gaurav Kamble",
      "photoUrl": "https://lh3.googleusercontent.com/a-/AOh14GixcBN0H7c8PtdTfQCDn5HlyzyP42jgBrjO31Lc=s64",
      "userId": "01233196997439613538"
     },
     "user_tz": -330
    },
    "id": "t8AhYmyBrdNK",
    "outputId": "26779ad5-34f3-4674-ee08-217a06720fc2"
   },
   "outputs": [
    {
     "name": "stdout",
     "output_type": "stream",
     "text": [
      "Model: \"sequential_1\"\n",
      "_________________________________________________________________\n",
      "Layer (type)                 Output Shape              Param #   \n",
      "=================================================================\n",
      "inception_resnet_v2 (Functio (None, 3, 3, 1536)        54336736  \n",
      "_________________________________________________________________\n",
      "flatten_1 (Flatten)          (None, 13824)             0         \n",
      "_________________________________________________________________\n",
      "dropout_1 (Dropout)          (None, 13824)             0         \n",
      "_________________________________________________________________\n",
      "dense_3 (Dense)              (None, 512)               7078400   \n",
      "_________________________________________________________________\n",
      "batch_normalization_204 (Bat (None, 512)               2048      \n",
      "_________________________________________________________________\n",
      "dense_4 (Dense)              (None, 256)               131328    \n",
      "_________________________________________________________________\n",
      "dense_5 (Dense)              (None, 1)                 257       \n",
      "=================================================================\n",
      "Total params: 61,548,769\n",
      "Trainable params: 7,211,009\n",
      "Non-trainable params: 54,337,760\n",
      "_________________________________________________________________\n"
     ]
    }
   ],
   "source": [
    "model.summary()"
   ]
  },
  {
   "cell_type": "code",
   "execution_count": 55,
   "metadata": {
    "executionInfo": {
     "elapsed": 1279,
     "status": "ok",
     "timestamp": 1613201484187,
     "user": {
      "displayName": "Gaurav Kamble",
      "photoUrl": "https://lh3.googleusercontent.com/a-/AOh14GixcBN0H7c8PtdTfQCDn5HlyzyP42jgBrjO31Lc=s64",
      "userId": "01233196997439613538"
     },
     "user_tz": -330
    },
    "id": "N36tX1pxrRVf"
   },
   "outputs": [],
   "source": [
    "model = models.Sequential([\n",
    "                           layers.Conv2D(32, (3,3), activation='relu', padding='same', input_shape=(150,150,3)),\n",
    "                           layers.BatchNormalization(),\n",
    "                           layers.MaxPooling2D((2,2)),\n",
    "                           layers.Dropout((0.4)),\n",
    "\n",
    "\n",
    "                           layers.Conv2D(32, (3,3), activation='relu'),\n",
    "                           layers.Conv2D(64, (3,3), activation='relu'),\n",
    "                           layers.BatchNormalization(),\n",
    "                           layers.MaxPooling2D((2,2)),\n",
    "                           layers.Dropout((0.4)),\n",
    "\n",
    "                           layers.Conv2D(64, (3,3), activation='relu'),\n",
    "                           layers.Conv2D(128, (3,3), activation='relu'),\n",
    "                           layers.BatchNormalization(),\n",
    "                           layers.MaxPooling2D((2,2)),\n",
    "                           layers.Dropout((0.4)),\n",
    "\n",
    "                           layers.Flatten(),\n",
    "\n",
    "                           layers.Dense(256, activation='relu'),\n",
    "                           layers.BatchNormalization(),\n",
    "                           layers.Dense(512, activation='relu'),\n",
    "                           layers.Dense(1, activation='sigmoid')\n",
    "\n",
    "])"
   ]
  },
  {
   "cell_type": "code",
   "execution_count": 56,
   "metadata": {
    "colab": {
     "base_uri": "https://localhost:8080/"
    },
    "collapsed": true,
    "executionInfo": {
     "elapsed": 1463,
     "status": "ok",
     "timestamp": 1613201492173,
     "user": {
      "displayName": "Gaurav Kamble",
      "photoUrl": "https://lh3.googleusercontent.com/a-/AOh14GixcBN0H7c8PtdTfQCDn5HlyzyP42jgBrjO31Lc=s64",
      "userId": "01233196997439613538"
     },
     "user_tz": -330
    },
    "id": "_X5wY0gwNhDL",
    "outputId": "7eb144e7-61b5-433f-f09e-cbffed08e20e"
   },
   "outputs": [
    {
     "name": "stdout",
     "output_type": "stream",
     "text": [
      "Model: \"sequential_5\"\n",
      "_________________________________________________________________\n",
      "Layer (type)                 Output Shape              Param #   \n",
      "=================================================================\n",
      "conv2d_421 (Conv2D)          (None, 150, 150, 32)      896       \n",
      "_________________________________________________________________\n",
      "batch_normalization_420 (Bat (None, 150, 150, 32)      128       \n",
      "_________________________________________________________________\n",
      "max_pooling2d_17 (MaxPooling (None, 75, 75, 32)        0         \n",
      "_________________________________________________________________\n",
      "dropout_11 (Dropout)         (None, 75, 75, 32)        0         \n",
      "_________________________________________________________________\n",
      "conv2d_422 (Conv2D)          (None, 73, 73, 32)        9248      \n",
      "_________________________________________________________________\n",
      "conv2d_423 (Conv2D)          (None, 71, 71, 64)        18496     \n",
      "_________________________________________________________________\n",
      "batch_normalization_421 (Bat (None, 71, 71, 64)        256       \n",
      "_________________________________________________________________\n",
      "max_pooling2d_18 (MaxPooling (None, 35, 35, 64)        0         \n",
      "_________________________________________________________________\n",
      "dropout_12 (Dropout)         (None, 35, 35, 64)        0         \n",
      "_________________________________________________________________\n",
      "conv2d_424 (Conv2D)          (None, 33, 33, 64)        36928     \n",
      "_________________________________________________________________\n",
      "conv2d_425 (Conv2D)          (None, 31, 31, 128)       73856     \n",
      "_________________________________________________________________\n",
      "batch_normalization_422 (Bat (None, 31, 31, 128)       512       \n",
      "_________________________________________________________________\n",
      "max_pooling2d_19 (MaxPooling (None, 15, 15, 128)       0         \n",
      "_________________________________________________________________\n",
      "dropout_13 (Dropout)         (None, 15, 15, 128)       0         \n",
      "_________________________________________________________________\n",
      "flatten_5 (Flatten)          (None, 28800)             0         \n",
      "_________________________________________________________________\n",
      "dense_15 (Dense)             (None, 256)               7373056   \n",
      "_________________________________________________________________\n",
      "batch_normalization_423 (Bat (None, 256)               1024      \n",
      "_________________________________________________________________\n",
      "dense_16 (Dense)             (None, 512)               131584    \n",
      "_________________________________________________________________\n",
      "dense_17 (Dense)             (None, 1)                 513       \n",
      "=================================================================\n",
      "Total params: 7,646,497\n",
      "Trainable params: 7,645,537\n",
      "Non-trainable params: 960\n",
      "_________________________________________________________________\n"
     ]
    }
   ],
   "source": [
    "model.summary()"
   ]
  },
  {
   "cell_type": "code",
   "execution_count": 57,
   "metadata": {
    "executionInfo": {
     "elapsed": 2082,
     "status": "ok",
     "timestamp": 1613201509947,
     "user": {
      "displayName": "Gaurav Kamble",
      "photoUrl": "https://lh3.googleusercontent.com/a-/AOh14GixcBN0H7c8PtdTfQCDn5HlyzyP42jgBrjO31Lc=s64",
      "userId": "01233196997439613538"
     },
     "user_tz": -330
    },
    "id": "qJBDekDoNT_6"
   },
   "outputs": [],
   "source": [
    "model.compile(tf.keras.optimizers.Adam(learning_rate=2e-3),\n",
    "              tf.keras.losses.binary_crossentropy,\n",
    "              metrics=['accuracy'])"
   ]
  },
  {
   "cell_type": "code",
   "execution_count": 58,
   "metadata": {
    "colab": {
     "base_uri": "https://localhost:8080/"
    },
    "executionInfo": {
     "elapsed": 74492,
     "status": "ok",
     "timestamp": 1613214931542,
     "user": {
      "displayName": "Gaurav Kamble",
      "photoUrl": "https://lh3.googleusercontent.com/a-/AOh14GixcBN0H7c8PtdTfQCDn5HlyzyP42jgBrjO31Lc=s64",
      "userId": "01233196997439613538"
     },
     "user_tz": -330
    },
    "id": "pR19y0fArMP-",
    "outputId": "bcd49474-ab61-4ef7-fa98-8c36bf883984"
   },
   "outputs": [
    {
     "name": "stderr",
     "output_type": "stream",
     "text": [
      "/usr/local/lib/python3.6/dist-packages/tensorflow/python/keras/engine/training.py:1844: UserWarning: `Model.fit_generator` is deprecated and will be removed in a future version. Please use `Model.fit`, which supports generators.\n",
      "  warnings.warn('`Model.fit_generator` is deprecated and '\n"
     ]
    },
    {
     "name": "stdout",
     "output_type": "stream",
     "text": [
      "Epoch 1/10\n",
      "1206/1206 [==============================] - 1345s 1s/step - loss: 0.5602 - accuracy: 0.7387 - val_loss: 0.4938 - val_accuracy: 0.7923\n",
      "Epoch 2/10\n",
      "1206/1206 [==============================] - 1336s 1s/step - loss: 0.2942 - accuracy: 0.9024 - val_loss: 0.3007 - val_accuracy: 0.8940\n",
      "Epoch 3/10\n",
      "1206/1206 [==============================] - 1354s 1s/step - loss: 0.2804 - accuracy: 0.9059 - val_loss: 0.2714 - val_accuracy: 0.9031\n",
      "Epoch 4/10\n",
      "1206/1206 [==============================] - 1338s 1s/step - loss: 0.2709 - accuracy: 0.9084 - val_loss: 0.2883 - val_accuracy: 0.9079\n",
      "Epoch 5/10\n",
      "1206/1206 [==============================] - 1339s 1s/step - loss: 0.2489 - accuracy: 0.9171 - val_loss: 0.2489 - val_accuracy: 0.9099\n",
      "Epoch 6/10\n",
      "1206/1206 [==============================] - 1312s 1s/step - loss: 0.2485 - accuracy: 0.9176 - val_loss: 0.2207 - val_accuracy: 0.9176\n",
      "Epoch 7/10\n",
      "1206/1206 [==============================] - 1332s 1s/step - loss: 0.2434 - accuracy: 0.9195 - val_loss: 0.2371 - val_accuracy: 0.9179\n",
      "Epoch 8/10\n",
      "1206/1206 [==============================] - 1319s 1s/step - loss: 0.2321 - accuracy: 0.9236 - val_loss: 0.2122 - val_accuracy: 0.9301\n",
      "Epoch 9/10\n",
      "1206/1206 [==============================] - 1326s 1s/step - loss: 0.2288 - accuracy: 0.9214 - val_loss: 0.2450 - val_accuracy: 0.9320\n",
      "Epoch 10/10\n",
      "1206/1206 [==============================] - 1337s 1s/step - loss: 0.2248 - accuracy: 0.9240 - val_loss: 0.2079 - val_accuracy: 0.9301\n"
     ]
    }
   ],
   "source": [
    "history = model.fit_generator(train_generator,\n",
    "                             steps_per_epoch=1206,\n",
    "                             epochs=10,\n",
    "                             validation_data=validation_generator,\n",
    "                            validation_steps=517)\n",
    "\n",
    "model.save('colab_malaria_detection_model.h5')"
   ]
  }
 ],
 "metadata": {
  "accelerator": "GPU",
  "colab": {
   "authorship_tag": "ABX9TyPW3UUYpD1MK0WYT+JiQY9G",
   "collapsed_sections": [],
   "mount_file_id": "1Xc3Pd_p1hyBCuyNfcZlGhIS4MQ8w4RN8",
   "name": "malaria_dataset.ipynb",
   "provenance": []
  },
  "kernelspec": {
   "display_name": "Python 3",
   "language": "python",
   "name": "python3"
  },
  "language_info": {
   "codemirror_mode": {
    "name": "ipython",
    "version": 3
   },
   "file_extension": ".py",
   "mimetype": "text/x-python",
   "name": "python",
   "nbconvert_exporter": "python",
   "pygments_lexer": "ipython3",
   "version": "3.7.9"
  }
 },
 "nbformat": 4,
 "nbformat_minor": 1
}
