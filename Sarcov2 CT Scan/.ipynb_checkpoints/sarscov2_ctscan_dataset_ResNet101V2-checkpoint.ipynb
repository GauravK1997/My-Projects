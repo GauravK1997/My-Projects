{
 "cells": [
  {
   "cell_type": "code",
   "execution_count": 1,
   "metadata": {
    "colab": {
     "base_uri": "https://localhost:8080/"
    },
    "executionInfo": {
     "elapsed": 41483,
     "status": "ok",
     "timestamp": 1613546271446,
     "user": {
      "displayName": "Gaurav Kamble",
      "photoUrl": "https://lh3.googleusercontent.com/a-/AOh14GixcBN0H7c8PtdTfQCDn5HlyzyP42jgBrjO31Lc=s64",
      "userId": "01233196997439613538"
     },
     "user_tz": -330
    },
    "id": "GX3FIypiitPn",
    "outputId": "b0782528-9227-440d-b637-abf155830f30"
   },
   "outputs": [
    {
     "name": "stdout",
     "output_type": "stream",
     "text": [
      "Mounted at /content/gdrive\n"
     ]
    }
   ],
   "source": [
    "from google.colab import drive\n",
    "drive.mount('/content/gdrive')"
   ]
  },
  {
   "cell_type": "code",
   "execution_count": 2,
   "metadata": {
    "executionInfo": {
     "elapsed": 1337,
     "status": "ok",
     "timestamp": 1613546293303,
     "user": {
      "displayName": "Gaurav Kamble",
      "photoUrl": "https://lh3.googleusercontent.com/a-/AOh14GixcBN0H7c8PtdTfQCDn5HlyzyP42jgBrjO31Lc=s64",
      "userId": "01233196997439613538"
     },
     "user_tz": -330
    },
    "id": "cfLI2VFFjmTl"
   },
   "outputs": [],
   "source": [
    "import os\n",
    "os.environ['KAGGLE_CONFIG_DIR']='/content/gdrive/MyDrive/kaggle_datasets'"
   ]
  },
  {
   "cell_type": "code",
   "execution_count": 3,
   "metadata": {
    "colab": {
     "base_uri": "https://localhost:8080/"
    },
    "executionInfo": {
     "elapsed": 672,
     "status": "ok",
     "timestamp": 1613546293304,
     "user": {
      "displayName": "Gaurav Kamble",
      "photoUrl": "https://lh3.googleusercontent.com/a-/AOh14GixcBN0H7c8PtdTfQCDn5HlyzyP42jgBrjO31Lc=s64",
      "userId": "01233196997439613538"
     },
     "user_tz": -330
    },
    "id": "9SDuQyMvjxCY",
    "outputId": "da902ad4-a0e2-47ab-a20e-8921b7c74485"
   },
   "outputs": [
    {
     "name": "stdout",
     "output_type": "stream",
     "text": [
      "/content/gdrive/MyDrive/kaggle_datasets\n"
     ]
    }
   ],
   "source": [
    "%cd '/content/gdrive/MyDrive/kaggle_datasets'"
   ]
  },
  {
   "cell_type": "code",
   "execution_count": 4,
   "metadata": {
    "colab": {
     "base_uri": "https://localhost:8080/"
    },
    "executionInfo": {
     "elapsed": 872,
     "status": "ok",
     "timestamp": 1613546293874,
     "user": {
      "displayName": "Gaurav Kamble",
      "photoUrl": "https://lh3.googleusercontent.com/a-/AOh14GixcBN0H7c8PtdTfQCDn5HlyzyP42jgBrjO31Lc=s64",
      "userId": "01233196997439613538"
     },
     "user_tz": -330
    },
    "id": "vv6XLWBKjzPo",
    "outputId": "01c62c41-0fa0-4c96-fa73-1a80a419db98"
   },
   "outputs": [
    {
     "name": "stdout",
     "output_type": "stream",
     "text": [
      "checkpoint\t\t\t\t\t   kaggle.json\n",
      "colab_fruits.h5\t\t\t\t\t   messy-vs-clean-room\n",
      "colab_fruits_weights.index\t\t\t   model-for-detecting-malaria\n",
      "colab_inception_resnet_malaria_detection_model.h5  natural-images\n",
      "garbage-classification\t\t\t\t   real-and-fake-face-detection\n",
      "indian-food-classification\t\t\t   sarscov2-ctscan-dataset\n",
      "intel-image-classification\n"
     ]
    }
   ],
   "source": [
    "!ls"
   ]
  },
  {
   "cell_type": "code",
   "execution_count": null,
   "metadata": {
    "colab": {
     "base_uri": "https://localhost:8080/"
    },
    "executionInfo": {
     "elapsed": 4656,
     "status": "ok",
     "timestamp": 1613534943610,
     "user": {
      "displayName": "Gaurav Kamble",
      "photoUrl": "https://lh3.googleusercontent.com/a-/AOh14GixcBN0H7c8PtdTfQCDn5HlyzyP42jgBrjO31Lc=s64",
      "userId": "01233196997439613538"
     },
     "user_tz": -330
    },
    "id": "B5LyLzggAwS4",
    "outputId": "4eca175f-61a6-4564-c835-2d046217833b"
   },
   "outputs": [
    {
     "name": "stdout",
     "output_type": "stream",
     "text": [
      "Downloading sarscov2-ctscan-dataset.zip to /content/gdrive/MyDrive/kaggle_datasets\n",
      " 96% 221M/230M [00:02<00:00, 111MB/s]\n",
      "100% 230M/230M [00:02<00:00, 97.3MB/s]\n"
     ]
    }
   ],
   "source": [
    "!kaggle datasets download -d plameneduardo/sarscov2-ctscan-dataset"
   ]
  },
  {
   "cell_type": "code",
   "execution_count": null,
   "metadata": {
    "id": "Wi6RkwxUAwKg"
   },
   "outputs": [],
   "source": [
    "!mkdir sarscov2-ctscan-dataset\n",
    "!mv sarscov2-ctscan-dataset.zip sarscov2-ctscan-dataset"
   ]
  },
  {
   "cell_type": "code",
   "execution_count": 5,
   "metadata": {
    "colab": {
     "base_uri": "https://localhost:8080/"
    },
    "executionInfo": {
     "elapsed": 1035,
     "status": "ok",
     "timestamp": 1613546321216,
     "user": {
      "displayName": "Gaurav Kamble",
      "photoUrl": "https://lh3.googleusercontent.com/a-/AOh14GixcBN0H7c8PtdTfQCDn5HlyzyP42jgBrjO31Lc=s64",
      "userId": "01233196997439613538"
     },
     "user_tz": -330
    },
    "id": "c1mr0xKPGP69",
    "outputId": "1985069b-8908-4aa7-94ec-8101a7cbdf88"
   },
   "outputs": [
    {
     "name": "stdout",
     "output_type": "stream",
     "text": [
      "/content/gdrive/My Drive/kaggle_datasets/sarscov2-ctscan-dataset\n"
     ]
    }
   ],
   "source": [
    "%cd sarscov2-ctscan-dataset"
   ]
  },
  {
   "cell_type": "code",
   "execution_count": 11,
   "metadata": {
    "executionInfo": {
     "elapsed": 2468,
     "status": "ok",
     "timestamp": 1613546436714,
     "user": {
      "displayName": "Gaurav Kamble",
      "photoUrl": "https://lh3.googleusercontent.com/a-/AOh14GixcBN0H7c8PtdTfQCDn5HlyzyP42jgBrjO31Lc=s64",
      "userId": "01233196997439613538"
     },
     "user_tz": -330
    },
    "id": "VhkDmIYekrPA"
   },
   "outputs": [],
   "source": [
    "import tensorflow as tf\n",
    "from tensorflow import keras\n",
    "from tensorflow.keras import models\n",
    "from tensorflow.keras import layers\n",
    "from tensorflow.keras.preprocessing.image import ImageDataGenerator"
   ]
  },
  {
   "cell_type": "code",
   "execution_count": 12,
   "metadata": {
    "executionInfo": {
     "elapsed": 972,
     "status": "ok",
     "timestamp": 1613546439443,
     "user": {
      "displayName": "Gaurav Kamble",
      "photoUrl": "https://lh3.googleusercontent.com/a-/AOh14GixcBN0H7c8PtdTfQCDn5HlyzyP42jgBrjO31Lc=s64",
      "userId": "01233196997439613538"
     },
     "user_tz": -330
    },
    "id": "dZJ5oKRlk1Tq"
   },
   "outputs": [],
   "source": [
    "train_dir = '/content/gdrive/MyDrive/kaggle_datasets/sarscov2-ctscan-dataset/sarcscov2-ctscan-dataset'\n",
    "val_dir = '/content/gdrive/MyDrive/kaggle_datasets/sarscov2-ctscan-dataset/sarcscov2-ctscan-dataset'"
   ]
  },
  {
   "cell_type": "code",
   "execution_count": 13,
   "metadata": {
    "executionInfo": {
     "elapsed": 1044,
     "status": "ok",
     "timestamp": 1613546440523,
     "user": {
      "displayName": "Gaurav Kamble",
      "photoUrl": "https://lh3.googleusercontent.com/a-/AOh14GixcBN0H7c8PtdTfQCDn5HlyzyP42jgBrjO31Lc=s64",
      "userId": "01233196997439613538"
     },
     "user_tz": -330
    },
    "id": "bYM_CPN7k8BE"
   },
   "outputs": [],
   "source": [
    "train_datagen = ImageDataGenerator(rescale=1./255,\n",
    "                                   rotation_range=40,\n",
    "                                   width_shift_range=0.2,\n",
    "                                   height_shift_range=0.2,\n",
    "                                   shear_range=0.2,\n",
    "                                   zoom_range=0.2,\n",
    "                                   horizontal_flip=True,\n",
    "                                   validation_split=0.3)\n",
    "\n",
    "val_datagen = ImageDataGenerator(rescale=1./255)"
   ]
  },
  {
   "cell_type": "code",
   "execution_count": 14,
   "metadata": {
    "colab": {
     "base_uri": "https://localhost:8080/"
    },
    "executionInfo": {
     "elapsed": 981,
     "status": "ok",
     "timestamp": 1613546449128,
     "user": {
      "displayName": "Gaurav Kamble",
      "photoUrl": "https://lh3.googleusercontent.com/a-/AOh14GixcBN0H7c8PtdTfQCDn5HlyzyP42jgBrjO31Lc=s64",
      "userId": "01233196997439613538"
     },
     "user_tz": -330
    },
    "id": "4xzDqzpamzn1",
    "outputId": "eadac09b-3bb9-4473-d74d-5be9ee291d63"
   },
   "outputs": [
    {
     "name": "stdout",
     "output_type": "stream",
     "text": [
      "Found 1738 images belonging to 2 classes.\n",
      "Found 743 images belonging to 2 classes.\n"
     ]
    }
   ],
   "source": [
    "train_generator = train_datagen.flow_from_directory(train_dir,\n",
    "                                                    target_size=(150,150),\n",
    "                                                    batch_size=16,\n",
    "                                                    class_mode='binary',\n",
    "                                                    subset='training')\n",
    "\n",
    "validation_generator = train_datagen.flow_from_directory(val_dir,\n",
    "                                                        target_size=(150,150),\n",
    "                                                        batch_size=16,\n",
    "                                                        class_mode='binary',\n",
    "                                                        subset='validation')"
   ]
  },
  {
   "cell_type": "code",
   "execution_count": 25,
   "metadata": {
    "executionInfo": {
     "elapsed": 1000,
     "status": "ok",
     "timestamp": 1613547980328,
     "user": {
      "displayName": "Gaurav Kamble",
      "photoUrl": "https://lh3.googleusercontent.com/a-/AOh14GixcBN0H7c8PtdTfQCDn5HlyzyP42jgBrjO31Lc=s64",
      "userId": "01233196997439613538"
     },
     "user_tz": -330
    },
    "id": "FgmficCcBXff"
   },
   "outputs": [],
   "source": [
    "from tensorflow.keras.applications.resnet_v2 import ResNet101V2"
   ]
  },
  {
   "cell_type": "code",
   "execution_count": 26,
   "metadata": {
    "colab": {
     "base_uri": "https://localhost:8080/"
    },
    "executionInfo": {
     "elapsed": 5430,
     "status": "ok",
     "timestamp": 1613547985189,
     "user": {
      "displayName": "Gaurav Kamble",
      "photoUrl": "https://lh3.googleusercontent.com/a-/AOh14GixcBN0H7c8PtdTfQCDn5HlyzyP42jgBrjO31Lc=s64",
      "userId": "01233196997439613538"
     },
     "user_tz": -330
    },
    "id": "cgyzOtTak1gI",
    "outputId": "b622ce00-4cba-4b63-9091-a94af3f7060f"
   },
   "outputs": [
    {
     "name": "stdout",
     "output_type": "stream",
     "text": [
      "Downloading data from https://storage.googleapis.com/tensorflow/keras-applications/resnet/resnet101v2_weights_tf_dim_ordering_tf_kernels_notop.h5\n",
      "171319296/171317808 [==============================] - 2s 0us/step\n"
     ]
    }
   ],
   "source": [
    "conv_base = ResNet101V2(include_top=False, input_shape=(150,150,3))"
   ]
  },
  {
   "cell_type": "code",
   "execution_count": 28,
   "metadata": {
    "executionInfo": {
     "elapsed": 3005,
     "status": "ok",
     "timestamp": 1613547985198,
     "user": {
      "displayName": "Gaurav Kamble",
      "photoUrl": "https://lh3.googleusercontent.com/a-/AOh14GixcBN0H7c8PtdTfQCDn5HlyzyP42jgBrjO31Lc=s64",
      "userId": "01233196997439613538"
     },
     "user_tz": -330
    },
    "id": "zjVVXdjfk5DF"
   },
   "outputs": [],
   "source": [
    "for layer in conv_base.layers:\n",
    "  layer.trainable = False"
   ]
  },
  {
   "cell_type": "code",
   "execution_count": 32,
   "metadata": {
    "executionInfo": {
     "elapsed": 1833,
     "status": "ok",
     "timestamp": 1613548021321,
     "user": {
      "displayName": "Gaurav Kamble",
      "photoUrl": "https://lh3.googleusercontent.com/a-/AOh14GixcBN0H7c8PtdTfQCDn5HlyzyP42jgBrjO31Lc=s64",
      "userId": "01233196997439613538"
     },
     "user_tz": -330
    },
    "id": "ZDZ5ZOIFDqdn"
   },
   "outputs": [],
   "source": [
    "model = models.Sequential([\n",
    "                           conv_base,\n",
    "                           layers.Flatten(),\n",
    "                           layers.Dropout((0.5)),\n",
    "                           layers.Dense(512, activation='relu'),\n",
    "                           layers.BatchNormalization(),\n",
    "                           layers.Dense(256, activation='relu'),\n",
    "                           layers.Dense(1, activation='sigmoid')\n",
    "])"
   ]
  },
  {
   "cell_type": "code",
   "execution_count": 33,
   "metadata": {
    "colab": {
     "base_uri": "https://localhost:8080/"
    },
    "executionInfo": {
     "elapsed": 1097,
     "status": "ok",
     "timestamp": 1613548023582,
     "user": {
      "displayName": "Gaurav Kamble",
      "photoUrl": "https://lh3.googleusercontent.com/a-/AOh14GixcBN0H7c8PtdTfQCDn5HlyzyP42jgBrjO31Lc=s64",
      "userId": "01233196997439613538"
     },
     "user_tz": -330
    },
    "id": "RLt4yC2Cmzao",
    "outputId": "d48e6bc1-ecb1-4801-988a-3a3c9eff55d5"
   },
   "outputs": [
    {
     "name": "stdout",
     "output_type": "stream",
     "text": [
      "Model: \"sequential_3\"\n",
      "_________________________________________________________________\n",
      "Layer (type)                 Output Shape              Param #   \n",
      "=================================================================\n",
      "resnet101v2 (Functional)     (None, 5, 5, 2048)        42626560  \n",
      "_________________________________________________________________\n",
      "flatten_3 (Flatten)          (None, 51200)             0         \n",
      "_________________________________________________________________\n",
      "dropout_8 (Dropout)          (None, 51200)             0         \n",
      "_________________________________________________________________\n",
      "dense_9 (Dense)              (None, 512)               26214912  \n",
      "_________________________________________________________________\n",
      "batch_normalization_10 (Batc (None, 512)               2048      \n",
      "_________________________________________________________________\n",
      "dense_10 (Dense)             (None, 256)               131328    \n",
      "_________________________________________________________________\n",
      "dense_11 (Dense)             (None, 1)                 257       \n",
      "=================================================================\n",
      "Total params: 68,975,105\n",
      "Trainable params: 26,347,521\n",
      "Non-trainable params: 42,627,584\n",
      "_________________________________________________________________\n"
     ]
    }
   ],
   "source": [
    "model.summary()"
   ]
  },
  {
   "cell_type": "code",
   "execution_count": 34,
   "metadata": {
    "executionInfo": {
     "elapsed": 1240,
     "status": "ok",
     "timestamp": 1613548027470,
     "user": {
      "displayName": "Gaurav Kamble",
      "photoUrl": "https://lh3.googleusercontent.com/a-/AOh14GixcBN0H7c8PtdTfQCDn5HlyzyP42jgBrjO31Lc=s64",
      "userId": "01233196997439613538"
     },
     "user_tz": -330
    },
    "id": "fBYLXhmVmzZa"
   },
   "outputs": [],
   "source": [
    "model.compile(tf.keras.optimizers.Adam(learning_rate=2e-4),\n",
    "              tf.keras.losses.binary_crossentropy,\n",
    "              metrics=['accuracy'])"
   ]
  },
  {
   "cell_type": "code",
   "execution_count": 36,
   "metadata": {
    "colab": {
     "base_uri": "https://localhost:8080/"
    },
    "executionInfo": {
     "elapsed": 822108,
     "status": "ok",
     "timestamp": 1613548960543,
     "user": {
      "displayName": "Gaurav Kamble",
      "photoUrl": "https://lh3.googleusercontent.com/a-/AOh14GixcBN0H7c8PtdTfQCDn5HlyzyP42jgBrjO31Lc=s64",
      "userId": "01233196997439613538"
     },
     "user_tz": -330
    },
    "id": "EOe3i6VHmzOE",
    "outputId": "a86e9a4e-a7b4-4d4c-ed66-99bc0d047e7e"
   },
   "outputs": [
    {
     "name": "stderr",
     "output_type": "stream",
     "text": [
      "/usr/local/lib/python3.6/dist-packages/tensorflow/python/keras/engine/training.py:1844: UserWarning: `Model.fit_generator` is deprecated and will be removed in a future version. Please use `Model.fit`, which supports generators.\n",
      "  warnings.warn('`Model.fit_generator` is deprecated and '\n"
     ]
    },
    {
     "name": "stdout",
     "output_type": "stream",
     "text": [
      "Epoch 1/30\n",
      "109/109 [==============================] - 27s 252ms/step - loss: 0.4008 - accuracy: 0.8211 - val_loss: 0.5074 - val_accuracy: 0.7631\n",
      "Epoch 2/30\n",
      "109/109 [==============================] - 27s 250ms/step - loss: 0.3929 - accuracy: 0.8234 - val_loss: 0.5446 - val_accuracy: 0.7497\n",
      "Epoch 3/30\n",
      "109/109 [==============================] - 27s 251ms/step - loss: 0.3580 - accuracy: 0.8418 - val_loss: 0.5556 - val_accuracy: 0.7524\n",
      "Epoch 4/30\n",
      "109/109 [==============================] - 27s 249ms/step - loss: 0.3644 - accuracy: 0.8320 - val_loss: 0.5808 - val_accuracy: 0.7470\n",
      "Epoch 5/30\n",
      "109/109 [==============================] - 27s 250ms/step - loss: 0.3685 - accuracy: 0.8435 - val_loss: 0.6049 - val_accuracy: 0.7308\n",
      "Epoch 6/30\n",
      "109/109 [==============================] - 27s 252ms/step - loss: 0.3355 - accuracy: 0.8510 - val_loss: 0.5246 - val_accuracy: 0.7779\n",
      "Epoch 7/30\n",
      "109/109 [==============================] - 27s 252ms/step - loss: 0.3517 - accuracy: 0.8458 - val_loss: 0.4957 - val_accuracy: 0.8022\n",
      "Epoch 8/30\n",
      "109/109 [==============================] - 27s 250ms/step - loss: 0.3260 - accuracy: 0.8521 - val_loss: 0.5539 - val_accuracy: 0.7550\n",
      "Epoch 9/30\n",
      "109/109 [==============================] - 28s 254ms/step - loss: 0.3382 - accuracy: 0.8527 - val_loss: 0.5741 - val_accuracy: 0.7510\n",
      "Epoch 10/30\n",
      "109/109 [==============================] - 27s 251ms/step - loss: 0.3284 - accuracy: 0.8590 - val_loss: 0.5703 - val_accuracy: 0.7631\n",
      "Epoch 11/30\n",
      "109/109 [==============================] - 27s 249ms/step - loss: 0.3315 - accuracy: 0.8550 - val_loss: 0.4888 - val_accuracy: 0.7766\n",
      "Epoch 12/30\n",
      "109/109 [==============================] - 27s 251ms/step - loss: 0.3405 - accuracy: 0.8481 - val_loss: 0.5381 - val_accuracy: 0.7483\n",
      "Epoch 13/30\n",
      "109/109 [==============================] - 27s 252ms/step - loss: 0.2985 - accuracy: 0.8700 - val_loss: 0.6062 - val_accuracy: 0.7456\n",
      "Epoch 14/30\n",
      "109/109 [==============================] - 27s 251ms/step - loss: 0.3005 - accuracy: 0.8751 - val_loss: 0.5288 - val_accuracy: 0.7793\n",
      "Epoch 15/30\n",
      "109/109 [==============================] - 27s 251ms/step - loss: 0.3033 - accuracy: 0.8728 - val_loss: 0.5363 - val_accuracy: 0.7820\n",
      "Epoch 16/30\n",
      "109/109 [==============================] - 27s 251ms/step - loss: 0.2877 - accuracy: 0.8694 - val_loss: 0.5244 - val_accuracy: 0.7524\n",
      "Epoch 17/30\n",
      "109/109 [==============================] - 27s 249ms/step - loss: 0.2896 - accuracy: 0.8757 - val_loss: 0.5115 - val_accuracy: 0.7981\n",
      "Epoch 18/30\n",
      "109/109 [==============================] - 27s 251ms/step - loss: 0.2835 - accuracy: 0.8746 - val_loss: 0.5958 - val_accuracy: 0.7214\n",
      "Epoch 19/30\n",
      "109/109 [==============================] - 27s 250ms/step - loss: 0.2812 - accuracy: 0.8763 - val_loss: 0.6026 - val_accuracy: 0.7712\n",
      "Epoch 20/30\n",
      "109/109 [==============================] - 27s 248ms/step - loss: 0.2810 - accuracy: 0.8751 - val_loss: 0.5254 - val_accuracy: 0.7672\n",
      "Epoch 21/30\n",
      "109/109 [==============================] - 27s 252ms/step - loss: 0.2764 - accuracy: 0.8809 - val_loss: 0.5498 - val_accuracy: 0.7860\n",
      "Epoch 22/30\n",
      "109/109 [==============================] - 27s 249ms/step - loss: 0.2695 - accuracy: 0.8820 - val_loss: 0.6353 - val_accuracy: 0.7524\n",
      "Epoch 23/30\n",
      "109/109 [==============================] - 27s 250ms/step - loss: 0.2784 - accuracy: 0.8786 - val_loss: 0.5499 - val_accuracy: 0.7725\n",
      "Epoch 24/30\n",
      "109/109 [==============================] - 27s 251ms/step - loss: 0.2741 - accuracy: 0.8820 - val_loss: 0.5611 - val_accuracy: 0.7712\n",
      "Epoch 25/30\n",
      "109/109 [==============================] - 27s 249ms/step - loss: 0.2650 - accuracy: 0.8930 - val_loss: 0.6128 - val_accuracy: 0.7766\n",
      "Epoch 26/30\n",
      "109/109 [==============================] - 27s 249ms/step - loss: 0.2762 - accuracy: 0.8763 - val_loss: 0.5347 - val_accuracy: 0.7604\n",
      "Epoch 27/30\n",
      "109/109 [==============================] - 27s 251ms/step - loss: 0.2512 - accuracy: 0.8861 - val_loss: 0.5707 - val_accuracy: 0.7497\n",
      "Epoch 28/30\n",
      "109/109 [==============================] - 27s 248ms/step - loss: 0.2777 - accuracy: 0.8792 - val_loss: 0.5481 - val_accuracy: 0.7699\n",
      "Epoch 29/30\n",
      "109/109 [==============================] - 27s 248ms/step - loss: 0.2722 - accuracy: 0.8797 - val_loss: 0.6479 - val_accuracy: 0.7550\n",
      "Epoch 30/30\n",
      "109/109 [==============================] - 27s 250ms/step - loss: 0.2774 - accuracy: 0.8740 - val_loss: 0.5569 - val_accuracy: 0.7591\n"
     ]
    }
   ],
   "source": [
    "history = model.fit_generator(train_generator,\n",
    "                             steps_per_epoch=109,\n",
    "                             epochs=30,\n",
    "                             validation_data=validation_generator,\n",
    "                            validation_steps=47)\n",
    "\n",
    "model.save('colab_sarscov2-ctscan-dataset_ResNet101V2.h5')"
   ]
  },
  {
   "cell_type": "code",
   "execution_count": 37,
   "metadata": {
    "executionInfo": {
     "elapsed": 1102,
     "status": "ok",
     "timestamp": 1613551253806,
     "user": {
      "displayName": "Gaurav Kamble",
      "photoUrl": "https://lh3.googleusercontent.com/a-/AOh14GixcBN0H7c8PtdTfQCDn5HlyzyP42jgBrjO31Lc=s64",
      "userId": "01233196997439613538"
     },
     "user_tz": -330
    },
    "id": "hofu--JkJF2l"
   },
   "outputs": [],
   "source": [
    "from tensorflow.keras.applications.vgg19 import VGG19"
   ]
  },
  {
   "cell_type": "code",
   "execution_count": 38,
   "metadata": {
    "colab": {
     "base_uri": "https://localhost:8080/"
    },
    "executionInfo": {
     "elapsed": 1575,
     "status": "ok",
     "timestamp": 1613551323739,
     "user": {
      "displayName": "Gaurav Kamble",
      "photoUrl": "https://lh3.googleusercontent.com/a-/AOh14GixcBN0H7c8PtdTfQCDn5HlyzyP42jgBrjO31Lc=s64",
      "userId": "01233196997439613538"
     },
     "user_tz": -330
    },
    "id": "fZQv61PkJFyG",
    "outputId": "6512948a-1bfb-48a6-f66b-51bc3c633416"
   },
   "outputs": [
    {
     "name": "stdout",
     "output_type": "stream",
     "text": [
      "Downloading data from https://storage.googleapis.com/tensorflow/keras-applications/vgg19/vgg19_weights_tf_dim_ordering_tf_kernels_notop.h5\n",
      "80142336/80134624 [==============================] - 0s 0us/step\n"
     ]
    }
   ],
   "source": [
    "conv_base_2 = VGG19(include_top=False, input_shape=(150, 150, 3))"
   ]
  },
  {
   "cell_type": "code",
   "execution_count": 39,
   "metadata": {
    "executionInfo": {
     "elapsed": 1281,
     "status": "ok",
     "timestamp": 1613551374527,
     "user": {
      "displayName": "Gaurav Kamble",
      "photoUrl": "https://lh3.googleusercontent.com/a-/AOh14GixcBN0H7c8PtdTfQCDn5HlyzyP42jgBrjO31Lc=s64",
      "userId": "01233196997439613538"
     },
     "user_tz": -330
    },
    "id": "XQLGxAPJJ5Sl"
   },
   "outputs": [],
   "source": [
    "for layer in conv_base_2.layers:\n",
    "  layer.trainable = False"
   ]
  },
  {
   "cell_type": "code",
   "execution_count": 40,
   "metadata": {
    "executionInfo": {
     "elapsed": 2441,
     "status": "ok",
     "timestamp": 1613551382389,
     "user": {
      "displayName": "Gaurav Kamble",
      "photoUrl": "https://lh3.googleusercontent.com/a-/AOh14GixcBN0H7c8PtdTfQCDn5HlyzyP42jgBrjO31Lc=s64",
      "userId": "01233196997439613538"
     },
     "user_tz": -330
    },
    "id": "tx9Qya17J5Sw"
   },
   "outputs": [],
   "source": [
    "model_2 = models.Sequential([\n",
    "                           conv_base,\n",
    "                           layers.Flatten(),\n",
    "                           layers.Dropout((0.5)),\n",
    "                           layers.Dense(512, activation='relu'),\n",
    "                           layers.BatchNormalization(),\n",
    "                           layers.Dense(256, activation='relu'),\n",
    "                           layers.Dense(1, activation='sigmoid')\n",
    "])"
   ]
  },
  {
   "cell_type": "code",
   "execution_count": 43,
   "metadata": {
    "executionInfo": {
     "elapsed": 1081,
     "status": "ok",
     "timestamp": 1613551921136,
     "user": {
      "displayName": "Gaurav Kamble",
      "photoUrl": "https://lh3.googleusercontent.com/a-/AOh14GixcBN0H7c8PtdTfQCDn5HlyzyP42jgBrjO31Lc=s64",
      "userId": "01233196997439613538"
     },
     "user_tz": -330
    },
    "id": "5dnzbcxJJFrn"
   },
   "outputs": [],
   "source": [
    "model_2.compile(tf.keras.optimizers.Adam(learning_rate=2e-4),\n",
    "              tf.keras.losses.binary_crossentropy,\n",
    "              metrics=['accuracy'])"
   ]
  },
  {
   "cell_type": "code",
   "execution_count": 44,
   "metadata": {
    "colab": {
     "base_uri": "https://localhost:8080/"
    },
    "executionInfo": {
     "elapsed": 841292,
     "status": "ok",
     "timestamp": 1613552769309,
     "user": {
      "displayName": "Gaurav Kamble",
      "photoUrl": "https://lh3.googleusercontent.com/a-/AOh14GixcBN0H7c8PtdTfQCDn5HlyzyP42jgBrjO31Lc=s64",
      "userId": "01233196997439613538"
     },
     "user_tz": -330
    },
    "id": "xrXGQ48rJFqJ",
    "outputId": "d2d63848-425e-4032-8877-d1e18218238e"
   },
   "outputs": [
    {
     "name": "stderr",
     "output_type": "stream",
     "text": [
      "/usr/local/lib/python3.6/dist-packages/tensorflow/python/keras/engine/training.py:1844: UserWarning: `Model.fit_generator` is deprecated and will be removed in a future version. Please use `Model.fit`, which supports generators.\n",
      "  warnings.warn('`Model.fit_generator` is deprecated and '\n"
     ]
    },
    {
     "name": "stdout",
     "output_type": "stream",
     "text": [
      "Epoch 1/30\n",
      "109/109 [==============================] - 34s 269ms/step - loss: 0.6427 - accuracy: 0.6856 - val_loss: 0.6616 - val_accuracy: 0.7093\n",
      "Epoch 2/30\n",
      "109/109 [==============================] - 28s 254ms/step - loss: 0.4736 - accuracy: 0.7824 - val_loss: 0.6000 - val_accuracy: 0.7187\n",
      "Epoch 3/30\n",
      "109/109 [==============================] - 28s 255ms/step - loss: 0.4287 - accuracy: 0.8014 - val_loss: 0.5767 - val_accuracy: 0.7416\n",
      "Epoch 4/30\n",
      "109/109 [==============================] - 28s 254ms/step - loss: 0.4046 - accuracy: 0.8221 - val_loss: 0.5441 - val_accuracy: 0.7524\n",
      "Epoch 5/30\n",
      "109/109 [==============================] - 27s 252ms/step - loss: 0.4021 - accuracy: 0.8254 - val_loss: 0.5184 - val_accuracy: 0.7725\n",
      "Epoch 6/30\n",
      "109/109 [==============================] - 28s 255ms/step - loss: 0.3528 - accuracy: 0.8536 - val_loss: 0.5377 - val_accuracy: 0.7685\n",
      "Epoch 7/30\n",
      "109/109 [==============================] - 28s 256ms/step - loss: 0.3776 - accuracy: 0.8336 - val_loss: 0.5977 - val_accuracy: 0.7187\n",
      "Epoch 8/30\n",
      "109/109 [==============================] - 28s 256ms/step - loss: 0.3631 - accuracy: 0.8306 - val_loss: 0.4867 - val_accuracy: 0.7873\n",
      "Epoch 9/30\n",
      "109/109 [==============================] - 28s 256ms/step - loss: 0.3476 - accuracy: 0.8405 - val_loss: 0.4709 - val_accuracy: 0.7954\n",
      "Epoch 10/30\n",
      "109/109 [==============================] - 28s 253ms/step - loss: 0.3412 - accuracy: 0.8599 - val_loss: 0.5609 - val_accuracy: 0.7604\n",
      "Epoch 11/30\n",
      "109/109 [==============================] - 28s 253ms/step - loss: 0.2970 - accuracy: 0.8759 - val_loss: 0.6955 - val_accuracy: 0.7402\n",
      "Epoch 12/30\n",
      "109/109 [==============================] - 28s 254ms/step - loss: 0.3979 - accuracy: 0.8089 - val_loss: 0.6080 - val_accuracy: 0.7497\n",
      "Epoch 13/30\n",
      "109/109 [==============================] - 27s 253ms/step - loss: 0.3351 - accuracy: 0.8557 - val_loss: 0.5340 - val_accuracy: 0.7564\n",
      "Epoch 14/30\n",
      "109/109 [==============================] - 27s 252ms/step - loss: 0.3342 - accuracy: 0.8542 - val_loss: 0.5241 - val_accuracy: 0.7793\n",
      "Epoch 15/30\n",
      "109/109 [==============================] - 28s 254ms/step - loss: 0.3280 - accuracy: 0.8378 - val_loss: 0.4822 - val_accuracy: 0.7725\n",
      "Epoch 16/30\n",
      "109/109 [==============================] - 28s 254ms/step - loss: 0.3025 - accuracy: 0.8756 - val_loss: 0.5320 - val_accuracy: 0.7510\n",
      "Epoch 17/30\n",
      "109/109 [==============================] - 27s 252ms/step - loss: 0.3159 - accuracy: 0.8572 - val_loss: 0.5213 - val_accuracy: 0.7752\n",
      "Epoch 18/30\n",
      "109/109 [==============================] - 28s 258ms/step - loss: 0.3403 - accuracy: 0.8389 - val_loss: 0.5680 - val_accuracy: 0.7550\n",
      "Epoch 19/30\n",
      "109/109 [==============================] - 28s 253ms/step - loss: 0.3054 - accuracy: 0.8678 - val_loss: 0.5712 - val_accuracy: 0.7658\n",
      "Epoch 20/30\n",
      "109/109 [==============================] - 28s 253ms/step - loss: 0.3046 - accuracy: 0.8748 - val_loss: 0.5039 - val_accuracy: 0.7873\n",
      "Epoch 21/30\n",
      "109/109 [==============================] - 28s 255ms/step - loss: 0.2621 - accuracy: 0.8861 - val_loss: 0.5457 - val_accuracy: 0.7537\n",
      "Epoch 22/30\n",
      "109/109 [==============================] - 28s 255ms/step - loss: 0.2758 - accuracy: 0.8865 - val_loss: 0.4899 - val_accuracy: 0.7887\n",
      "Epoch 23/30\n",
      "109/109 [==============================] - 28s 254ms/step - loss: 0.2711 - accuracy: 0.8773 - val_loss: 0.4818 - val_accuracy: 0.7766\n",
      "Epoch 24/30\n",
      "109/109 [==============================] - 28s 254ms/step - loss: 0.2685 - accuracy: 0.8783 - val_loss: 0.4480 - val_accuracy: 0.8035\n",
      "Epoch 25/30\n",
      "109/109 [==============================] - 28s 254ms/step - loss: 0.2978 - accuracy: 0.8510 - val_loss: 0.5168 - val_accuracy: 0.7618\n",
      "Epoch 26/30\n",
      "109/109 [==============================] - 28s 254ms/step - loss: 0.2708 - accuracy: 0.8887 - val_loss: 0.5511 - val_accuracy: 0.7577\n",
      "Epoch 27/30\n",
      "109/109 [==============================] - 28s 255ms/step - loss: 0.2929 - accuracy: 0.8766 - val_loss: 0.5163 - val_accuracy: 0.7954\n",
      "Epoch 28/30\n",
      "109/109 [==============================] - 28s 254ms/step - loss: 0.2782 - accuracy: 0.8664 - val_loss: 0.5477 - val_accuracy: 0.7739\n",
      "Epoch 29/30\n",
      "109/109 [==============================] - 28s 256ms/step - loss: 0.2576 - accuracy: 0.8845 - val_loss: 0.5204 - val_accuracy: 0.7591\n",
      "Epoch 30/30\n",
      "109/109 [==============================] - 28s 255ms/step - loss: 0.2803 - accuracy: 0.8748 - val_loss: 0.5459 - val_accuracy: 0.7766\n"
     ]
    }
   ],
   "source": [
    "history = model_2.fit_generator(train_generator,\n",
    "                             steps_per_epoch=109,\n",
    "                             epochs=30,\n",
    "                             validation_data=validation_generator,\n",
    "                            validation_steps=47)\n",
    "\n",
    "model.save('colab_sarscov2-ctscan-dataset_VGG19.h5')"
   ]
  }
 ],
 "metadata": {
  "accelerator": "GPU",
  "colab": {
   "authorship_tag": "ABX9TyMl2sN+YtWy+4FG9mTG1Jjb",
   "name": "sarscov2_ctscan_dataset_ResNet101V2.ipynb",
   "provenance": []
  },
  "kernelspec": {
   "display_name": "Python 3",
   "language": "python",
   "name": "python3"
  },
  "language_info": {
   "codemirror_mode": {
    "name": "ipython",
    "version": 3
   },
   "file_extension": ".py",
   "mimetype": "text/x-python",
   "name": "python",
   "nbconvert_exporter": "python",
   "pygments_lexer": "ipython3",
   "version": "3.7.9"
  }
 },
 "nbformat": 4,
 "nbformat_minor": 1
}
